{
 "cells": [
  {
   "cell_type": "markdown",
   "metadata": {},
   "source": [
    "# Practice notebook for univariate analysis using NHANES data\n",
    "\n",
    "This notebook will give you the opportunity to perform some univariate analyses on your own using the NHANES.  These analyses are similar to what was done in the week 2 NHANES case study notebook.\n",
    "\n",
    "You can enter your code into the cells that say \"enter your code here\", and you can type responses to the questions into the cells that say \"Type Markdown and Latex\".\n",
    "\n",
    "Note that most of the code that you will need to write below is very similar to code that appears in the case study notebook.  You will need to edit code from that notebook in small ways to adapt it to the prompts below.\n",
    "\n",
    "To get started, we will use the same module imports and read the data in the same way as we did in the case study:"
   ]
  },
  {
   "cell_type": "code",
   "execution_count": 1,
   "metadata": {},
   "outputs": [
    {
     "data": {
      "text/html": [
       "<div>\n",
       "<style scoped>\n",
       "    .dataframe tbody tr th:only-of-type {\n",
       "        vertical-align: middle;\n",
       "    }\n",
       "\n",
       "    .dataframe tbody tr th {\n",
       "        vertical-align: top;\n",
       "    }\n",
       "\n",
       "    .dataframe thead th {\n",
       "        text-align: right;\n",
       "    }\n",
       "</style>\n",
       "<table border=\"1\" class=\"dataframe\">\n",
       "  <thead>\n",
       "    <tr style=\"text-align: right;\">\n",
       "      <th></th>\n",
       "      <th>SEQN</th>\n",
       "      <th>ALQ101</th>\n",
       "      <th>ALQ110</th>\n",
       "      <th>ALQ130</th>\n",
       "      <th>SMQ020</th>\n",
       "      <th>RIAGENDR</th>\n",
       "      <th>RIDAGEYR</th>\n",
       "      <th>RIDRETH1</th>\n",
       "      <th>DMDCITZN</th>\n",
       "      <th>DMDEDUC2</th>\n",
       "      <th>...</th>\n",
       "      <th>BPXSY2</th>\n",
       "      <th>BPXDI2</th>\n",
       "      <th>BMXWT</th>\n",
       "      <th>BMXHT</th>\n",
       "      <th>BMXBMI</th>\n",
       "      <th>BMXLEG</th>\n",
       "      <th>BMXARML</th>\n",
       "      <th>BMXARMC</th>\n",
       "      <th>BMXWAIST</th>\n",
       "      <th>HIQ210</th>\n",
       "    </tr>\n",
       "  </thead>\n",
       "  <tbody>\n",
       "    <tr>\n",
       "      <th>0</th>\n",
       "      <td>83732</td>\n",
       "      <td>1.0</td>\n",
       "      <td>NaN</td>\n",
       "      <td>1.0</td>\n",
       "      <td>1</td>\n",
       "      <td>1</td>\n",
       "      <td>62</td>\n",
       "      <td>3</td>\n",
       "      <td>1.0</td>\n",
       "      <td>5.0</td>\n",
       "      <td>...</td>\n",
       "      <td>124.0</td>\n",
       "      <td>64.0</td>\n",
       "      <td>94.8</td>\n",
       "      <td>184.5</td>\n",
       "      <td>27.8</td>\n",
       "      <td>43.3</td>\n",
       "      <td>43.6</td>\n",
       "      <td>35.9</td>\n",
       "      <td>101.1</td>\n",
       "      <td>2.0</td>\n",
       "    </tr>\n",
       "    <tr>\n",
       "      <th>1</th>\n",
       "      <td>83733</td>\n",
       "      <td>1.0</td>\n",
       "      <td>NaN</td>\n",
       "      <td>6.0</td>\n",
       "      <td>1</td>\n",
       "      <td>1</td>\n",
       "      <td>53</td>\n",
       "      <td>3</td>\n",
       "      <td>2.0</td>\n",
       "      <td>3.0</td>\n",
       "      <td>...</td>\n",
       "      <td>140.0</td>\n",
       "      <td>88.0</td>\n",
       "      <td>90.4</td>\n",
       "      <td>171.4</td>\n",
       "      <td>30.8</td>\n",
       "      <td>38.0</td>\n",
       "      <td>40.0</td>\n",
       "      <td>33.2</td>\n",
       "      <td>107.9</td>\n",
       "      <td>NaN</td>\n",
       "    </tr>\n",
       "    <tr>\n",
       "      <th>2</th>\n",
       "      <td>83734</td>\n",
       "      <td>1.0</td>\n",
       "      <td>NaN</td>\n",
       "      <td>NaN</td>\n",
       "      <td>1</td>\n",
       "      <td>1</td>\n",
       "      <td>78</td>\n",
       "      <td>3</td>\n",
       "      <td>1.0</td>\n",
       "      <td>3.0</td>\n",
       "      <td>...</td>\n",
       "      <td>132.0</td>\n",
       "      <td>44.0</td>\n",
       "      <td>83.4</td>\n",
       "      <td>170.1</td>\n",
       "      <td>28.8</td>\n",
       "      <td>35.6</td>\n",
       "      <td>37.0</td>\n",
       "      <td>31.0</td>\n",
       "      <td>116.5</td>\n",
       "      <td>2.0</td>\n",
       "    </tr>\n",
       "    <tr>\n",
       "      <th>3</th>\n",
       "      <td>83735</td>\n",
       "      <td>2.0</td>\n",
       "      <td>1.0</td>\n",
       "      <td>1.0</td>\n",
       "      <td>2</td>\n",
       "      <td>2</td>\n",
       "      <td>56</td>\n",
       "      <td>3</td>\n",
       "      <td>1.0</td>\n",
       "      <td>5.0</td>\n",
       "      <td>...</td>\n",
       "      <td>134.0</td>\n",
       "      <td>68.0</td>\n",
       "      <td>109.8</td>\n",
       "      <td>160.9</td>\n",
       "      <td>42.4</td>\n",
       "      <td>38.5</td>\n",
       "      <td>37.7</td>\n",
       "      <td>38.3</td>\n",
       "      <td>110.1</td>\n",
       "      <td>2.0</td>\n",
       "    </tr>\n",
       "    <tr>\n",
       "      <th>4</th>\n",
       "      <td>83736</td>\n",
       "      <td>2.0</td>\n",
       "      <td>1.0</td>\n",
       "      <td>1.0</td>\n",
       "      <td>2</td>\n",
       "      <td>2</td>\n",
       "      <td>42</td>\n",
       "      <td>4</td>\n",
       "      <td>1.0</td>\n",
       "      <td>4.0</td>\n",
       "      <td>...</td>\n",
       "      <td>114.0</td>\n",
       "      <td>54.0</td>\n",
       "      <td>55.2</td>\n",
       "      <td>164.9</td>\n",
       "      <td>20.3</td>\n",
       "      <td>37.4</td>\n",
       "      <td>36.0</td>\n",
       "      <td>27.2</td>\n",
       "      <td>80.4</td>\n",
       "      <td>2.0</td>\n",
       "    </tr>\n",
       "  </tbody>\n",
       "</table>\n",
       "<p>5 rows × 28 columns</p>\n",
       "</div>"
      ],
      "text/plain": [
       "    SEQN  ALQ101  ALQ110  ALQ130  SMQ020  RIAGENDR  RIDAGEYR  RIDRETH1  \\\n",
       "0  83732     1.0     NaN     1.0       1         1        62         3   \n",
       "1  83733     1.0     NaN     6.0       1         1        53         3   \n",
       "2  83734     1.0     NaN     NaN       1         1        78         3   \n",
       "3  83735     2.0     1.0     1.0       2         2        56         3   \n",
       "4  83736     2.0     1.0     1.0       2         2        42         4   \n",
       "\n",
       "   DMDCITZN  DMDEDUC2  ...  BPXSY2  BPXDI2  BMXWT  BMXHT  BMXBMI  BMXLEG  \\\n",
       "0       1.0       5.0  ...   124.0    64.0   94.8  184.5    27.8    43.3   \n",
       "1       2.0       3.0  ...   140.0    88.0   90.4  171.4    30.8    38.0   \n",
       "2       1.0       3.0  ...   132.0    44.0   83.4  170.1    28.8    35.6   \n",
       "3       1.0       5.0  ...   134.0    68.0  109.8  160.9    42.4    38.5   \n",
       "4       1.0       4.0  ...   114.0    54.0   55.2  164.9    20.3    37.4   \n",
       "\n",
       "   BMXARML  BMXARMC  BMXWAIST  HIQ210  \n",
       "0     43.6     35.9     101.1     2.0  \n",
       "1     40.0     33.2     107.9     NaN  \n",
       "2     37.0     31.0     116.5     2.0  \n",
       "3     37.7     38.3     110.1     2.0  \n",
       "4     36.0     27.2      80.4     2.0  \n",
       "\n",
       "[5 rows x 28 columns]"
      ]
     },
     "execution_count": 1,
     "metadata": {},
     "output_type": "execute_result"
    }
   ],
   "source": [
    "%matplotlib inline\n",
    "import matplotlib.pyplot as plt\n",
    "import seaborn as sns\n",
    "import pandas as pd\n",
    "import statsmodels.api as sm\n",
    "import numpy as np\n",
    "\n",
    "da = pd.read_csv(\"nhanes_2015_2016.csv\")\n",
    "da.head()"
   ]
  },
  {
   "cell_type": "markdown",
   "metadata": {},
   "source": [
    "## Question 1\n",
    "\n",
    "Relabel the marital status variable [DMDMARTL](https://wwwn.cdc.gov/Nchs/Nhanes/2015-2016/DEMO_I.htm#DMDMARTL) to have brief but informative character labels.  Then construct a frequency table of these values for all people, then for women only, and for men only.  Then construct these three frequency tables using only people whose age is between 30 and 40."
   ]
  },
  {
   "cell_type": "code",
   "execution_count": 2,
   "metadata": {
    "scrolled": true
   },
   "outputs": [
    {
     "data": {
      "text/plain": [
       "Married                2780\n",
       "Never Married          1004\n",
       "Divorced                579\n",
       "Living with Partner     527\n",
       "Widowed                 396\n",
       "Missing                 261\n",
       "Separated               186\n",
       "Refused                   2\n",
       "Name: Marital_Status, dtype: int64"
      ]
     },
     "execution_count": 2,
     "metadata": {},
     "output_type": "execute_result"
    }
   ],
   "source": [
    "da[\"Marital_Status\"] = da.DMDMARTL.replace({1.0:\"Married\",2.0:\"Widowed\",3.0:\"Divorced\",4.0:\"Separated\",\n",
    "                                            5.0:\"Never Married\",6.0:\"Living with Partner\",77:\"Refused\",\n",
    "                                            9:\"Don't know\"}).fillna(\"Missing\")\n",
    "da[\"Marital_Status\"].value_counts()"
   ]
  },
  {
   "cell_type": "code",
   "execution_count": 3,
   "metadata": {
    "scrolled": true
   },
   "outputs": [
    {
     "data": {
      "text/plain": [
       "Age_grp   Marital_Status     \n",
       "(30, 40]  Married                516\n",
       "          Never Married          186\n",
       "          Living with Partner    129\n",
       "          Divorced                67\n",
       "          Separated               29\n",
       "          Widowed                  4\n",
       "          Refused                  1\n",
       "Name: Marital_Status, dtype: int64"
      ]
     },
     "execution_count": 3,
     "metadata": {},
     "output_type": "execute_result"
    }
   ],
   "source": [
    "#Marital status of people between 30-40 years old\n",
    "da[\"Age_grp\"] = pd.cut(da.RIDAGEYR,[30,40])\n",
    "\n",
    "da.groupby(\"Age_grp\")[\"Marital_Status\"].value_counts()"
   ]
  },
  {
   "cell_type": "code",
   "execution_count": 4,
   "metadata": {
    "scrolled": true
   },
   "outputs": [],
   "source": [
    "#Relabel RIAGENDR to Gender and replace integers 1 and 2 to Male and Female\n",
    "da[\"Gender\"] = da.RIAGENDR.replace({1:\"Male\",2:\"Female\"})"
   ]
  },
  {
   "cell_type": "code",
   "execution_count": 5,
   "metadata": {
    "scrolled": true
   },
   "outputs": [
    {
     "data": {
      "text/plain": [
       "Married                1303\n",
       "Never Married           520\n",
       "Divorced                350\n",
       "Widowed                 296\n",
       "Living with Partner     262\n",
       "Missing                 126\n",
       "Separated               118\n",
       "Refused                   1\n",
       "Name: Marital_Status, dtype: int64"
      ]
     },
     "execution_count": 5,
     "metadata": {},
     "output_type": "execute_result"
    }
   ],
   "source": [
    "#This is one way to do it directly\n",
    "da[da[\"Gender\"] == \"Female\"].Marital_Status.value_counts()"
   ]
  },
  {
   "cell_type": "code",
   "execution_count": 6,
   "metadata": {},
   "outputs": [
    {
     "data": {
      "text/plain": [
       "Age_grp   Marital_Status     \n",
       "(30, 40]  Married                258\n",
       "          Never Married           97\n",
       "          Living with Partner     57\n",
       "          Divorced                43\n",
       "          Separated               17\n",
       "          Widowed                  2\n",
       "Name: Marital_Status, dtype: int64"
      ]
     },
     "execution_count": 6,
     "metadata": {},
     "output_type": "execute_result"
    }
   ],
   "source": [
    "#Female between 30 and 40 years old\n",
    "da[da[\"Gender\"] == \"Female\"].groupby(\"Age_grp\")[\"Marital_Status\"].value_counts()"
   ]
  },
  {
   "cell_type": "code",
   "execution_count": 7,
   "metadata": {},
   "outputs": [
    {
     "data": {
      "text/plain": [
       "Married                1303\n",
       "Never Married           520\n",
       "Divorced                350\n",
       "Widowed                 296\n",
       "Living with Partner     262\n",
       "Missing                 126\n",
       "Separated               118\n",
       "Refused                   1\n",
       "Name: Marital_Status, dtype: int64"
      ]
     },
     "execution_count": 7,
     "metadata": {},
     "output_type": "execute_result"
    }
   ],
   "source": [
    "#Another way with a variable\n",
    "female = da[da[\"Gender\"] == \"Female\"]\n",
    "female[\"Marital_Status\"].value_counts()"
   ]
  },
  {
   "cell_type": "code",
   "execution_count": 8,
   "metadata": {},
   "outputs": [
    {
     "data": {
      "text/plain": [
       "Age_grp   Marital_Status     \n",
       "(30, 40]  Married                258\n",
       "          Never Married           97\n",
       "          Living with Partner     57\n",
       "          Divorced                43\n",
       "          Separated               17\n",
       "          Widowed                  2\n",
       "Name: Marital_Status, dtype: int64"
      ]
     },
     "execution_count": 8,
     "metadata": {},
     "output_type": "execute_result"
    }
   ],
   "source": [
    "#Female between 30 and 40 years old\n",
    "female.groupby(\"Age_grp\")[\"Marital_Status\"].value_counts()"
   ]
  },
  {
   "cell_type": "code",
   "execution_count": 9,
   "metadata": {},
   "outputs": [
    {
     "data": {
      "text/plain": [
       "Married                1477\n",
       "Never Married           484\n",
       "Living with Partner     265\n",
       "Divorced                229\n",
       "Missing                 135\n",
       "Widowed                 100\n",
       "Separated                68\n",
       "Refused                   1\n",
       "Name: Marital_Status, dtype: int64"
      ]
     },
     "execution_count": 9,
     "metadata": {},
     "output_type": "execute_result"
    }
   ],
   "source": [
    "da[da[\"Gender\"] == \"Male\"].Marital_Status.value_counts()"
   ]
  },
  {
   "cell_type": "code",
   "execution_count": 10,
   "metadata": {},
   "outputs": [
    {
     "data": {
      "text/plain": [
       "Age_grp   Marital_Status     \n",
       "(30, 40]  Married                258\n",
       "          Never Married           89\n",
       "          Living with Partner     72\n",
       "          Divorced                24\n",
       "          Separated               12\n",
       "          Widowed                  2\n",
       "          Refused                  1\n",
       "Name: Marital_Status, dtype: int64"
      ]
     },
     "execution_count": 10,
     "metadata": {},
     "output_type": "execute_result"
    }
   ],
   "source": [
    "da[da[\"Gender\"] == \"Male\"].groupby(\"Age_grp\")[\"Marital_Status\"].value_counts()"
   ]
  },
  {
   "cell_type": "code",
   "execution_count": 11,
   "metadata": {
    "scrolled": true
   },
   "outputs": [
    {
     "data": {
      "text/plain": [
       "Married                1477\n",
       "Never Married           484\n",
       "Living with Partner     265\n",
       "Divorced                229\n",
       "Missing                 135\n",
       "Widowed                 100\n",
       "Separated                68\n",
       "Refused                   1\n",
       "Name: Marital_Status, dtype: int64"
      ]
     },
     "execution_count": 11,
     "metadata": {},
     "output_type": "execute_result"
    }
   ],
   "source": [
    "male = da[da[\"Gender\"] == \"Male\"]\n",
    "male[\"Marital_Status\"].value_counts()"
   ]
  },
  {
   "cell_type": "code",
   "execution_count": 12,
   "metadata": {
    "scrolled": true
   },
   "outputs": [
    {
     "data": {
      "text/plain": [
       "Age_grp   Marital_Status     \n",
       "(30, 40]  Married                258\n",
       "          Never Married           89\n",
       "          Living with Partner     72\n",
       "          Divorced                24\n",
       "          Separated               12\n",
       "          Widowed                  2\n",
       "          Refused                  1\n",
       "Name: Marital_Status, dtype: int64"
      ]
     },
     "execution_count": 12,
     "metadata": {},
     "output_type": "execute_result"
    }
   ],
   "source": [
    "male.groupby(\"Age_grp\")[\"Marital_Status\"].value_counts()"
   ]
  },
  {
   "cell_type": "markdown",
   "metadata": {},
   "source": [
    "## Question 2\n",
    "\n",
    "Restricting to the female population, stratify the subjects into age bands no wider than ten years, and construct the distribution of marital status within each age band.  Within each age band, present the distribution in terms of proportions that must sum to 1."
   ]
  },
  {
   "cell_type": "code",
   "execution_count": 13,
   "metadata": {},
   "outputs": [
    {
     "name": "stderr",
     "output_type": "stream",
     "text": [
      "/opt/conda/lib/python3.6/site-packages/ipykernel_launcher.py:4: UserWarning: Boolean Series key will be reindexed to match DataFrame index.\n",
      "  after removing the cwd from sys.path.\n"
     ]
    },
    {
     "data": {
      "text/html": [
       "<div>\n",
       "<style scoped>\n",
       "    .dataframe tbody tr th:only-of-type {\n",
       "        vertical-align: middle;\n",
       "    }\n",
       "\n",
       "    .dataframe tbody tr th {\n",
       "        vertical-align: top;\n",
       "    }\n",
       "\n",
       "    .dataframe thead th {\n",
       "        text-align: right;\n",
       "    }\n",
       "</style>\n",
       "<table border=\"1\" class=\"dataframe\">\n",
       "  <thead>\n",
       "    <tr style=\"text-align: right;\">\n",
       "      <th>Marital_Status</th>\n",
       "      <th>Divorced</th>\n",
       "      <th>Living with Partner</th>\n",
       "      <th>Married</th>\n",
       "      <th>Never Married</th>\n",
       "      <th>Separated</th>\n",
       "      <th>Widowed</th>\n",
       "    </tr>\n",
       "    <tr>\n",
       "      <th>Age_grp2</th>\n",
       "      <th></th>\n",
       "      <th></th>\n",
       "      <th></th>\n",
       "      <th></th>\n",
       "      <th></th>\n",
       "      <th></th>\n",
       "    </tr>\n",
       "  </thead>\n",
       "  <tbody>\n",
       "    <tr>\n",
       "      <th>(18, 30]</th>\n",
       "      <td>0.020</td>\n",
       "      <td>0.206</td>\n",
       "      <td>0.286</td>\n",
       "      <td>0.468</td>\n",
       "      <td>0.020</td>\n",
       "      <td>NaN</td>\n",
       "    </tr>\n",
       "    <tr>\n",
       "      <th>(30, 40]</th>\n",
       "      <td>0.091</td>\n",
       "      <td>0.120</td>\n",
       "      <td>0.544</td>\n",
       "      <td>0.205</td>\n",
       "      <td>0.036</td>\n",
       "      <td>0.004</td>\n",
       "    </tr>\n",
       "    <tr>\n",
       "      <th>(40, 50]</th>\n",
       "      <td>0.137</td>\n",
       "      <td>0.074</td>\n",
       "      <td>0.574</td>\n",
       "      <td>0.125</td>\n",
       "      <td>0.066</td>\n",
       "      <td>0.024</td>\n",
       "    </tr>\n",
       "    <tr>\n",
       "      <th>(50, 60]</th>\n",
       "      <td>0.177</td>\n",
       "      <td>0.068</td>\n",
       "      <td>0.548</td>\n",
       "      <td>0.090</td>\n",
       "      <td>0.058</td>\n",
       "      <td>0.060</td>\n",
       "    </tr>\n",
       "    <tr>\n",
       "      <th>(60, 70]</th>\n",
       "      <td>0.193</td>\n",
       "      <td>0.043</td>\n",
       "      <td>0.481</td>\n",
       "      <td>0.086</td>\n",
       "      <td>0.050</td>\n",
       "      <td>0.147</td>\n",
       "    </tr>\n",
       "    <tr>\n",
       "      <th>(70, 80]</th>\n",
       "      <td>0.144</td>\n",
       "      <td>0.007</td>\n",
       "      <td>0.317</td>\n",
       "      <td>0.051</td>\n",
       "      <td>0.020</td>\n",
       "      <td>0.461</td>\n",
       "    </tr>\n",
       "  </tbody>\n",
       "</table>\n",
       "</div>"
      ],
      "text/plain": [
       "Marital_Status  Divorced  Living with Partner  Married  Never Married  \\\n",
       "Age_grp2                                                                \n",
       "(18, 30]           0.020                0.206    0.286          0.468   \n",
       "(30, 40]           0.091                0.120    0.544          0.205   \n",
       "(40, 50]           0.137                0.074    0.574          0.125   \n",
       "(50, 60]           0.177                0.068    0.548          0.090   \n",
       "(60, 70]           0.193                0.043    0.481          0.086   \n",
       "(70, 80]           0.144                0.007    0.317          0.051   \n",
       "\n",
       "Marital_Status  Separated  Widowed  \n",
       "Age_grp2                            \n",
       "(18, 30]            0.020      NaN  \n",
       "(30, 40]            0.036    0.004  \n",
       "(40, 50]            0.066    0.024  \n",
       "(50, 60]            0.058    0.060  \n",
       "(60, 70]            0.050    0.147  \n",
       "(70, 80]            0.020    0.461  "
      ]
     },
     "execution_count": 13,
     "metadata": {},
     "output_type": "execute_result"
    }
   ],
   "source": [
    "#We creat a new columm named Age_grp2 to save the age bands there\n",
    "da[\"Age_grp2\"] = pd.cut(da.RIDAGEYR,[18,30,40,50,60,70,80])\n",
    "q2 = da.loc[~da.Marital_Status.isin([\"Refused\",\"Missing\"]),:]# Eliminate rare/missing values\n",
    "q2 = q2[da[\"Gender\"] == \"Female\"].groupby(\"Age_grp2\")[\"Marital_Status\"].value_counts()\n",
    "q2 = q2.unstack()# Restructure the results from \"long\" to \"wide\". \"Convert\" the series into a dataframe\n",
    "q2 = q2.apply(lambda x: x/x.sum(), axis=1)# Normalize within each stratum to get proportions\n",
    "q2 = round(q2, 3)# Limit display to 3 decimal places\n",
    "q2"
   ]
  },
  {
   "cell_type": "markdown",
   "metadata": {},
   "source": [
    "__Q2a.__ Comment on the trends that you see in this series of marginal distributions."
   ]
  },
  {
   "cell_type": "raw",
   "metadata": {},
   "source": [
    "-Most women are widowed over 70. Below 30 any women is widowed \n",
    "-Below 30 are least women divorced, separated or divorced\n",
    "-Below 30 are most women living with partner and never married"
   ]
  },
  {
   "cell_type": "markdown",
   "metadata": {},
   "source": [
    "__Q2b.__ Repeat the construction for males."
   ]
  },
  {
   "cell_type": "code",
   "execution_count": 14,
   "metadata": {},
   "outputs": [
    {
     "data": {
      "text/html": [
       "<div>\n",
       "<style scoped>\n",
       "    .dataframe tbody tr th:only-of-type {\n",
       "        vertical-align: middle;\n",
       "    }\n",
       "\n",
       "    .dataframe tbody tr th {\n",
       "        vertical-align: top;\n",
       "    }\n",
       "\n",
       "    .dataframe thead th {\n",
       "        text-align: right;\n",
       "    }\n",
       "</style>\n",
       "<table border=\"1\" class=\"dataframe\">\n",
       "  <thead>\n",
       "    <tr style=\"text-align: right;\">\n",
       "      <th>Marital_Status</th>\n",
       "      <th>Divorced</th>\n",
       "      <th>Living with Partner</th>\n",
       "      <th>Married</th>\n",
       "      <th>Never Married</th>\n",
       "      <th>Separated</th>\n",
       "      <th>Widowed</th>\n",
       "    </tr>\n",
       "    <tr>\n",
       "      <th>Age_grp2</th>\n",
       "      <th></th>\n",
       "      <th></th>\n",
       "      <th></th>\n",
       "      <th></th>\n",
       "      <th></th>\n",
       "      <th></th>\n",
       "    </tr>\n",
       "  </thead>\n",
       "  <tbody>\n",
       "    <tr>\n",
       "      <th>(18, 30]</th>\n",
       "      <td>0.004</td>\n",
       "      <td>0.201</td>\n",
       "      <td>0.220</td>\n",
       "      <td>0.555</td>\n",
       "      <td>0.015</td>\n",
       "      <td>0.004</td>\n",
       "    </tr>\n",
       "    <tr>\n",
       "      <th>(30, 40]</th>\n",
       "      <td>0.053</td>\n",
       "      <td>0.158</td>\n",
       "      <td>0.565</td>\n",
       "      <td>0.195</td>\n",
       "      <td>0.026</td>\n",
       "      <td>0.004</td>\n",
       "    </tr>\n",
       "    <tr>\n",
       "      <th>(40, 50]</th>\n",
       "      <td>0.085</td>\n",
       "      <td>0.082</td>\n",
       "      <td>0.703</td>\n",
       "      <td>0.097</td>\n",
       "      <td>0.027</td>\n",
       "      <td>0.005</td>\n",
       "    </tr>\n",
       "    <tr>\n",
       "      <th>(50, 60]</th>\n",
       "      <td>0.126</td>\n",
       "      <td>0.075</td>\n",
       "      <td>0.652</td>\n",
       "      <td>0.104</td>\n",
       "      <td>0.022</td>\n",
       "      <td>0.022</td>\n",
       "    </tr>\n",
       "    <tr>\n",
       "      <th>(60, 70]</th>\n",
       "      <td>0.126</td>\n",
       "      <td>0.050</td>\n",
       "      <td>0.666</td>\n",
       "      <td>0.087</td>\n",
       "      <td>0.032</td>\n",
       "      <td>0.039</td>\n",
       "    </tr>\n",
       "    <tr>\n",
       "      <th>(70, 80]</th>\n",
       "      <td>0.142</td>\n",
       "      <td>0.022</td>\n",
       "      <td>0.612</td>\n",
       "      <td>0.022</td>\n",
       "      <td>0.035</td>\n",
       "      <td>0.167</td>\n",
       "    </tr>\n",
       "  </tbody>\n",
       "</table>\n",
       "</div>"
      ],
      "text/plain": [
       "Marital_Status  Divorced  Living with Partner  Married  Never Married  \\\n",
       "Age_grp2                                                                \n",
       "(18, 30]           0.004                0.201    0.220          0.555   \n",
       "(30, 40]           0.053                0.158    0.565          0.195   \n",
       "(40, 50]           0.085                0.082    0.703          0.097   \n",
       "(50, 60]           0.126                0.075    0.652          0.104   \n",
       "(60, 70]           0.126                0.050    0.666          0.087   \n",
       "(70, 80]           0.142                0.022    0.612          0.022   \n",
       "\n",
       "Marital_Status  Separated  Widowed  \n",
       "Age_grp2                            \n",
       "(18, 30]            0.015    0.004  \n",
       "(30, 40]            0.026    0.004  \n",
       "(40, 50]            0.027    0.005  \n",
       "(50, 60]            0.022    0.022  \n",
       "(60, 70]            0.032    0.039  \n",
       "(70, 80]            0.035    0.167  "
      ]
     },
     "execution_count": 14,
     "metadata": {},
     "output_type": "execute_result"
    }
   ],
   "source": [
    "q2b = da.loc [~da.Marital_Status.isin([\"Missing\",\"Refused\"]),:]\n",
    "q2b = q2b[q2b[\"Gender\"] == \"Male\"].groupby(\"Age_grp2\")[\"Marital_Status\"].value_counts()\n",
    "q2b = q2b.unstack()\n",
    "q2b = q2b.apply(lambda x: x/x.sum(), axis=1)\n",
    "q2b = round(q2b,3)\n",
    "q2b"
   ]
  },
  {
   "cell_type": "markdown",
   "metadata": {},
   "source": [
    "__Q2c.__ Comment on any notable differences that you see when comparing these results for females and for males."
   ]
  },
  {
   "cell_type": "raw",
   "metadata": {},
   "source": [
    "-Males over 70 are 75% less widowed than females\n",
    "-Males get married and females get devorced"
   ]
  },
  {
   "cell_type": "markdown",
   "metadata": {},
   "source": [
    "## Question 3\n",
    "\n",
    "Construct a histogram of the distribution of heights using the BMXHT variable in the NHANES sample."
   ]
  },
  {
   "cell_type": "code",
   "execution_count": 15,
   "metadata": {},
   "outputs": [
    {
     "data": {
      "text/plain": [
       "<matplotlib.axes._subplots.AxesSubplot at 0x7f8faa312898>"
      ]
     },
     "execution_count": 15,
     "metadata": {},
     "output_type": "execute_result"
    },
    {
     "data": {
      "image/png": "[encoded data removed]",
      "text/plain": [
       "<Figure size 432x288 with 1 Axes>"
      ]
     },
     "metadata": {},
     "output_type": "display_data"
    }
   ],
   "source": [
    "sns.distplot(da[\"BMXHT\"].dropna())"
   ]
  },
  {
   "cell_type": "markdown",
   "metadata": {},
   "source": [
    "__Q3a.__ Use the `bins` argument to [distplot](https://seaborn.pydata.org/generated/seaborn.distplot.html) to produce histograms with different numbers of bins.  Assess whether the default value for this argument gives a meaningful result, and comment on what happens as the number of bins grows excessively large or excessively small. "
   ]
  },
  {
   "cell_type": "code",
   "execution_count": 16,
   "metadata": {
    "scrolled": true
   },
   "outputs": [
    {
     "data": {
      "text/plain": [
       "<matplotlib.axes._subplots.AxesSubplot at 0x7f8faa33feb8>"
      ]
     },
     "execution_count": 16,
     "metadata": {},
     "output_type": "execute_result"
    },
    {
     "data": {
      "image/png": "[encoded data removed]",
      "text/plain": [
       "<Figure size 432x288 with 1 Axes>"
      ]
     },
     "metadata": {},
     "output_type": "display_data"
    }
   ],
   "source": [
    "sns.distplot(da.BMXHT.dropna(),bins=10)"
   ]
  },
  {
   "cell_type": "raw",
   "metadata": {},
   "source": [
    "-I think the default number of bins give a meaningful result because we have more information\n",
    "and this is not so rough\n",
    "-If the number of bins go extremly small the histogram losses to much information"
   ]
  },
  {
   "cell_type": "markdown",
   "metadata": {},
   "source": [
    "__Q3b.__ Make separate histograms for the heights of women and men, then make a side-by-side boxplot showing the heights of women and men."
   ]
  },
  {
   "cell_type": "code",
   "execution_count": 17,
   "metadata": {},
   "outputs": [
    {
     "data": {
      "image/png": "[encoded data removed]",
      "text/plain": [
       "<Figure size 432x288 with 1 Axes>"
      ]
     },
     "metadata": {},
     "output_type": "display_data"
    },
    {
     "data": {
      "image/png": "[encoded data removed]",
      "text/plain": [
       "<Figure size 216x432 with 2 Axes>"
      ]
     },
     "metadata": {},
     "output_type": "display_data"
    }
   ],
   "source": [
    "#sns.distplot(da[da[\"Gender\"] == \"Female\"].BMXHT.dropna(),bins=10)\n",
    "#sns.distplot(da[da[\"Gender\"] == \"Male\"].BMXHT.dropna(),bins=10)\n",
    "sns.boxplot(x = da[\"BMXHT\"], y = da[\"Gender\"])\n",
    "\n",
    "g = sns.FacetGrid(da, row = \"Gender\")\n",
    "g = g.map(plt.hist, \"BMXHT\")\n",
    "\n",
    "plt.show()"
   ]
  },
  {
   "cell_type": "markdown",
   "metadata": {},
   "source": [
    "__Q3c.__ Comment on what features, if any are not represented clearly in the boxplots, and what features, if any, are easier to see in the boxplots than in the histograms."
   ]
  },
  {
   "cell_type": "raw",
   "metadata": {},
   "source": [
    "-Outliers, Median, mean and IQR are easier to see in the boxplots than the histograms"
   ]
  },
  {
   "cell_type": "markdown",
   "metadata": {},
   "source": [
    "## Question 4\n",
    "\n",
    "Make a boxplot showing the distribution of within-subject differences between the first and second systolic blood pressure measurents ([BPXSY1](https://wwwn.cdc.gov/Nchs/Nhanes/2015-2016/BPX_I.htm#BPXSY1) and [BPXSY2](https://wwwn.cdc.gov/Nchs/Nhanes/2015-2016/BPX_I.htm#BPXSY2))."
   ]
  },
  {
   "cell_type": "code",
   "execution_count": 18,
   "metadata": {
    "scrolled": false
   },
   "outputs": [
    {
     "data": {
      "image/png": "[encoded data removed]",
      "text/plain": [
       "<Figure size 432x288 with 1 Axes>"
      ]
     },
     "metadata": {},
     "output_type": "display_data"
    }
   ],
   "source": [
    "sns.boxplot(da[\"BPXSY1\"]-da[\"BPXSY2\"])\n",
    "plt.show()"
   ]
  },
  {
   "cell_type": "markdown",
   "metadata": {},
   "source": [
    "__Q4a.__ What proportion of the subjects have a lower SBP on the second reading compared to the first?"
   ]
  },
  {
   "cell_type": "code",
   "execution_count": 19,
   "metadata": {},
   "outputs": [
    {
     "data": {
      "text/plain": [
       "0.36"
      ]
     },
     "execution_count": 19,
     "metadata": {},
     "output_type": "execute_result"
    }
   ],
   "source": [
    "q4 = (da.BPXSY2 - da.BPXSY1).dropna()\n",
    "q4 = q4 > 0\n",
    "round(np.mean(q4),2)"
   ]
  },
  {
   "cell_type": "markdown",
   "metadata": {},
   "source": [
    "__Q4b.__ Make side-by-side boxplots of the two systolic blood pressure variables."
   ]
  },
  {
   "cell_type": "code",
   "execution_count": 20,
   "metadata": {},
   "outputs": [
    {
     "data": {
      "image/png": "[encoded data removed]",
      "text/plain": [
       "<Figure size 432x288 with 1 Axes>"
      ]
     },
     "metadata": {},
     "output_type": "display_data"
    }
   ],
   "source": [
    "sns.boxplot(data = da.loc[:,[\"BPXSY1\",\"BPXSY2\"]])\n",
    "plt.show()"
   ]
  },
  {
   "cell_type": "markdown",
   "metadata": {},
   "source": [
    "## Question 5\n",
    "\n",
    "Construct a frequency table of household sizes for people within each educational attainment category (the relevant variable is [DMDEDUC2](https://wwwn.cdc.gov/Nchs/Nhanes/2015-2016/DEMO_I.htm#DMDEDUC2)).  Convert the frequencies to proportions."
   ]
  },
  {
   "cell_type": "code",
   "execution_count": 21,
   "metadata": {
    "scrolled": true
   },
   "outputs": [
    {
     "data": {
      "text/html": [
       "<div>\n",
       "<style scoped>\n",
       "    .dataframe tbody tr th:only-of-type {\n",
       "        vertical-align: middle;\n",
       "    }\n",
       "\n",
       "    .dataframe tbody tr th {\n",
       "        vertical-align: top;\n",
       "    }\n",
       "\n",
       "    .dataframe thead th {\n",
       "        text-align: right;\n",
       "    }\n",
       "</style>\n",
       "<table border=\"1\" class=\"dataframe\">\n",
       "  <thead>\n",
       "    <tr style=\"text-align: right;\">\n",
       "      <th>ED</th>\n",
       "      <th>1 = &lt;9</th>\n",
       "      <th>2 = 9-11</th>\n",
       "      <th>3 = HS/GED</th>\n",
       "      <th>4 = Some coll/AA</th>\n",
       "      <th>5 = :College</th>\n",
       "    </tr>\n",
       "    <tr>\n",
       "      <th>HHS</th>\n",
       "      <th></th>\n",
       "      <th></th>\n",
       "      <th></th>\n",
       "      <th></th>\n",
       "      <th></th>\n",
       "    </tr>\n",
       "  </thead>\n",
       "  <tbody>\n",
       "    <tr>\n",
       "      <th>1</th>\n",
       "      <td>0.094</td>\n",
       "      <td>0.098</td>\n",
       "      <td>0.236</td>\n",
       "      <td>0.319</td>\n",
       "      <td>0.254</td>\n",
       "    </tr>\n",
       "    <tr>\n",
       "      <th>2</th>\n",
       "      <td>0.097</td>\n",
       "      <td>0.094</td>\n",
       "      <td>0.211</td>\n",
       "      <td>0.286</td>\n",
       "      <td>0.312</td>\n",
       "    </tr>\n",
       "    <tr>\n",
       "      <th>3</th>\n",
       "      <td>0.098</td>\n",
       "      <td>0.107</td>\n",
       "      <td>0.207</td>\n",
       "      <td>0.319</td>\n",
       "      <td>0.270</td>\n",
       "    </tr>\n",
       "    <tr>\n",
       "      <th>4</th>\n",
       "      <td>0.099</td>\n",
       "      <td>0.112</td>\n",
       "      <td>0.219</td>\n",
       "      <td>0.312</td>\n",
       "      <td>0.258</td>\n",
       "    </tr>\n",
       "    <tr>\n",
       "      <th>5</th>\n",
       "      <td>0.149</td>\n",
       "      <td>0.145</td>\n",
       "      <td>0.200</td>\n",
       "      <td>0.305</td>\n",
       "      <td>0.200</td>\n",
       "    </tr>\n",
       "    <tr>\n",
       "      <th>6</th>\n",
       "      <td>0.206</td>\n",
       "      <td>0.212</td>\n",
       "      <td>0.227</td>\n",
       "      <td>0.238</td>\n",
       "      <td>0.116</td>\n",
       "    </tr>\n",
       "    <tr>\n",
       "      <th>7</th>\n",
       "      <td>0.258</td>\n",
       "      <td>0.167</td>\n",
       "      <td>0.246</td>\n",
       "      <td>0.222</td>\n",
       "      <td>0.106</td>\n",
       "    </tr>\n",
       "  </tbody>\n",
       "</table>\n",
       "</div>"
      ],
      "text/plain": [
       "ED   1 = <9  2 = 9-11  3 = HS/GED  4 = Some coll/AA  5 = :College\n",
       "HHS                                                              \n",
       "1     0.094     0.098       0.236             0.319         0.254\n",
       "2     0.097     0.094       0.211             0.286         0.312\n",
       "3     0.098     0.107       0.207             0.319         0.270\n",
       "4     0.099     0.112       0.219             0.312         0.258\n",
       "5     0.149     0.145       0.200             0.305         0.200\n",
       "6     0.206     0.212       0.227             0.238         0.116\n",
       "7     0.258     0.167       0.246             0.222         0.106"
      ]
     },
     "execution_count": 21,
     "metadata": {},
     "output_type": "execute_result"
    }
   ],
   "source": [
    "da[\"HHS\"] = da.DMDHHSIZ\n",
    "da[\"ED\"] = da.DMDEDUC2.replace({1: \"1 = <9\", 2: \"2 = 9-11\", 3: \"3 = HS/GED\", \n",
    "                                4: \"4 = Some coll/AA\", 5: \"5 = :College\", \n",
    "                                       7: \"Refused\", 9: \"Don't know\"})\n",
    "\n",
    "q5 = da.loc [~da.ED.isin([\"Don't know\",\"Refused\"]),:]\n",
    "q5 = q5.groupby(\"HHS\")[\"ED\"].value_counts()\n",
    "q5 = q5.unstack()\n",
    "q5 = q5.apply(lambda x: x/x.sum(), axis=1)\n",
    "q5 = round(q5,3)\n",
    "q5"
   ]
  },
  {
   "cell_type": "markdown",
   "metadata": {},
   "source": [
    "__Q5a.__ Comment on any major differences among the distributions."
   ]
  },
  {
   "cell_type": "raw",
   "metadata": {},
   "source": [
    "The more household size the less education attainment"
   ]
  },
  {
   "cell_type": "markdown",
   "metadata": {},
   "source": [
    "__Q5b.__ Restrict the sample to people between 30 and 40 years of age.  Then calculate the median household size for women and men within each level of educational attainment."
   ]
  },
  {
   "cell_type": "code",
   "execution_count": 22,
   "metadata": {},
   "outputs": [
    {
     "data": {
      "text/html": [
       "<div>\n",
       "<style scoped>\n",
       "    .dataframe tbody tr th:only-of-type {\n",
       "        vertical-align: middle;\n",
       "    }\n",
       "\n",
       "    .dataframe tbody tr th {\n",
       "        vertical-align: top;\n",
       "    }\n",
       "\n",
       "    .dataframe thead th {\n",
       "        text-align: right;\n",
       "    }\n",
       "</style>\n",
       "<table border=\"1\" class=\"dataframe\">\n",
       "  <thead>\n",
       "    <tr style=\"text-align: right;\">\n",
       "      <th></th>\n",
       "      <th>ED</th>\n",
       "      <th>1 = &lt;9</th>\n",
       "      <th>2 = 9-11</th>\n",
       "      <th>3 = HS/GED</th>\n",
       "      <th>4 = Some coll/AA</th>\n",
       "      <th>5 = :College</th>\n",
       "    </tr>\n",
       "    <tr>\n",
       "      <th>Gender</th>\n",
       "      <th>Age_grp</th>\n",
       "      <th></th>\n",
       "      <th></th>\n",
       "      <th></th>\n",
       "      <th></th>\n",
       "      <th></th>\n",
       "    </tr>\n",
       "  </thead>\n",
       "  <tbody>\n",
       "    <tr>\n",
       "      <th>Female</th>\n",
       "      <th>(30, 40]</th>\n",
       "      <td>5</td>\n",
       "      <td>5</td>\n",
       "      <td>5</td>\n",
       "      <td>4</td>\n",
       "      <td>4</td>\n",
       "    </tr>\n",
       "    <tr>\n",
       "      <th>Male</th>\n",
       "      <th>(30, 40]</th>\n",
       "      <td>5</td>\n",
       "      <td>5</td>\n",
       "      <td>4</td>\n",
       "      <td>4</td>\n",
       "      <td>3</td>\n",
       "    </tr>\n",
       "  </tbody>\n",
       "</table>\n",
       "</div>"
      ],
      "text/plain": [
       "ED               1 = <9  2 = 9-11  3 = HS/GED  4 = Some coll/AA  5 = :College\n",
       "Gender Age_grp                                                               \n",
       "Female (30, 40]       5         5           5                 4             4\n",
       "Male   (30, 40]       5         5           4                 4             3"
      ]
     },
     "execution_count": 22,
     "metadata": {},
     "output_type": "execute_result"
    }
   ],
   "source": [
    "q5b = da.groupby([\"Gender\",\"Age_grp\",\"ED\"])[\"HHS\"].median().unstack()\n",
    "q5b\n"
   ]
  },
  {
   "cell_type": "markdown",
   "metadata": {},
   "source": [
    "## Question 6\n",
    "\n",
    "The participants can be clustered into \"maked variance units\" (MVU) based on every combination of the variables [SDMVSTRA](https://wwwn.cdc.gov/Nchs/Nhanes/2015-2016/DEMO_I.htm#SDMVSTRA) and [SDMVPSU](https://wwwn.cdc.gov/Nchs/Nhanes/2015-2016/DEMO_I.htm#SDMVPSU).  Calculate the mean age ([RIDAGEYR](https://wwwn.cdc.gov/Nchs/Nhanes/2015-2016/DEMO_I.htm#RIDAGEYR)), height ([BMXHT](https://wwwn.cdc.gov/Nchs/Nhanes/2015-2016/BMX_I.htm#BMXHT)), and BMI ([BMXBMI](https://wwwn.cdc.gov/Nchs/Nhanes/2015-2016/BMX_I.htm#BMXBMI)) for each gender ([RIAGENDR](https://wwwn.cdc.gov/Nchs/Nhanes/2015-2016/DEMO_I.htm#RIAGENDR)), within each MVU, and report the ratio between the largest and smallest mean (e.g. for height) across the MVUs."
   ]
  },
  {
   "cell_type": "code",
   "execution_count": 23,
   "metadata": {
    "scrolled": false
   },
   "outputs": [
    {
     "data": {
      "text/html": [
       "<div>\n",
       "<style scoped>\n",
       "    .dataframe tbody tr th:only-of-type {\n",
       "        vertical-align: middle;\n",
       "    }\n",
       "\n",
       "    .dataframe tbody tr th {\n",
       "        vertical-align: top;\n",
       "    }\n",
       "\n",
       "    .dataframe thead tr th {\n",
       "        text-align: left;\n",
       "    }\n",
       "\n",
       "    .dataframe thead tr:last-of-type th {\n",
       "        text-align: right;\n",
       "    }\n",
       "</style>\n",
       "<table border=\"1\" class=\"dataframe\">\n",
       "  <thead>\n",
       "    <tr>\n",
       "      <th></th>\n",
       "      <th></th>\n",
       "      <th colspan=\"2\" halign=\"left\">RIDAGEYR</th>\n",
       "      <th colspan=\"2\" halign=\"left\">BMXHT</th>\n",
       "      <th colspan=\"2\" halign=\"left\">BMXBMI</th>\n",
       "    </tr>\n",
       "    <tr>\n",
       "      <th></th>\n",
       "      <th>Gender</th>\n",
       "      <th>Female</th>\n",
       "      <th>Male</th>\n",
       "      <th>Female</th>\n",
       "      <th>Male</th>\n",
       "      <th>Female</th>\n",
       "      <th>Male</th>\n",
       "    </tr>\n",
       "    <tr>\n",
       "      <th>SDMVPSU</th>\n",
       "      <th>SDMVSTRA</th>\n",
       "      <th></th>\n",
       "      <th></th>\n",
       "      <th></th>\n",
       "      <th></th>\n",
       "      <th></th>\n",
       "      <th></th>\n",
       "    </tr>\n",
       "  </thead>\n",
       "  <tbody>\n",
       "    <tr>\n",
       "      <th rowspan=\"15\" valign=\"top\">1</th>\n",
       "      <th>119</th>\n",
       "      <td>47.66</td>\n",
       "      <td>47.86</td>\n",
       "      <td>159.57</td>\n",
       "      <td>172.74</td>\n",
       "      <td>30.05</td>\n",
       "      <td>26.96</td>\n",
       "    </tr>\n",
       "    <tr>\n",
       "      <th>120</th>\n",
       "      <td>43.64</td>\n",
       "      <td>43.13</td>\n",
       "      <td>155.40</td>\n",
       "      <td>169.54</td>\n",
       "      <td>32.42</td>\n",
       "      <td>30.94</td>\n",
       "    </tr>\n",
       "    <tr>\n",
       "      <th>121</th>\n",
       "      <td>44.40</td>\n",
       "      <td>46.75</td>\n",
       "      <td>158.87</td>\n",
       "      <td>172.18</td>\n",
       "      <td>30.86</td>\n",
       "      <td>29.42</td>\n",
       "    </tr>\n",
       "    <tr>\n",
       "      <th>122</th>\n",
       "      <td>42.90</td>\n",
       "      <td>44.65</td>\n",
       "      <td>161.32</td>\n",
       "      <td>174.00</td>\n",
       "      <td>29.45</td>\n",
       "      <td>28.53</td>\n",
       "    </tr>\n",
       "    <tr>\n",
       "      <th>123</th>\n",
       "      <td>44.84</td>\n",
       "      <td>47.83</td>\n",
       "      <td>162.06</td>\n",
       "      <td>174.32</td>\n",
       "      <td>29.91</td>\n",
       "      <td>29.23</td>\n",
       "    </tr>\n",
       "    <tr>\n",
       "      <th>124</th>\n",
       "      <td>51.66</td>\n",
       "      <td>50.75</td>\n",
       "      <td>158.79</td>\n",
       "      <td>172.11</td>\n",
       "      <td>29.53</td>\n",
       "      <td>28.61</td>\n",
       "    </tr>\n",
       "    <tr>\n",
       "      <th>125</th>\n",
       "      <td>50.90</td>\n",
       "      <td>55.17</td>\n",
       "      <td>160.76</td>\n",
       "      <td>173.63</td>\n",
       "      <td>30.39</td>\n",
       "      <td>29.73</td>\n",
       "    </tr>\n",
       "    <tr>\n",
       "      <th>126</th>\n",
       "      <td>46.23</td>\n",
       "      <td>48.42</td>\n",
       "      <td>160.39</td>\n",
       "      <td>175.15</td>\n",
       "      <td>31.26</td>\n",
       "      <td>29.03</td>\n",
       "    </tr>\n",
       "    <tr>\n",
       "      <th>127</th>\n",
       "      <td>49.69</td>\n",
       "      <td>53.14</td>\n",
       "      <td>157.42</td>\n",
       "      <td>171.55</td>\n",
       "      <td>32.19</td>\n",
       "      <td>31.06</td>\n",
       "    </tr>\n",
       "    <tr>\n",
       "      <th>128</th>\n",
       "      <td>55.64</td>\n",
       "      <td>53.67</td>\n",
       "      <td>156.34</td>\n",
       "      <td>169.32</td>\n",
       "      <td>32.30</td>\n",
       "      <td>31.75</td>\n",
       "    </tr>\n",
       "    <tr>\n",
       "      <th>129</th>\n",
       "      <td>45.33</td>\n",
       "      <td>43.92</td>\n",
       "      <td>156.90</td>\n",
       "      <td>171.09</td>\n",
       "      <td>29.02</td>\n",
       "      <td>26.49</td>\n",
       "    </tr>\n",
       "    <tr>\n",
       "      <th>130</th>\n",
       "      <td>47.81</td>\n",
       "      <td>50.52</td>\n",
       "      <td>161.98</td>\n",
       "      <td>176.97</td>\n",
       "      <td>30.70</td>\n",
       "      <td>30.34</td>\n",
       "    </tr>\n",
       "    <tr>\n",
       "      <th>131</th>\n",
       "      <td>54.89</td>\n",
       "      <td>53.14</td>\n",
       "      <td>161.99</td>\n",
       "      <td>175.61</td>\n",
       "      <td>30.06</td>\n",
       "      <td>28.26</td>\n",
       "    </tr>\n",
       "    <tr>\n",
       "      <th>132</th>\n",
       "      <td>43.21</td>\n",
       "      <td>42.38</td>\n",
       "      <td>161.51</td>\n",
       "      <td>172.53</td>\n",
       "      <td>29.85</td>\n",
       "      <td>28.55</td>\n",
       "    </tr>\n",
       "    <tr>\n",
       "      <th>133</th>\n",
       "      <td>45.11</td>\n",
       "      <td>44.05</td>\n",
       "      <td>158.30</td>\n",
       "      <td>171.51</td>\n",
       "      <td>27.96</td>\n",
       "      <td>27.50</td>\n",
       "    </tr>\n",
       "    <tr>\n",
       "      <th rowspan=\"15\" valign=\"top\">2</th>\n",
       "      <th>119</th>\n",
       "      <td>52.99</td>\n",
       "      <td>54.36</td>\n",
       "      <td>159.24</td>\n",
       "      <td>172.91</td>\n",
       "      <td>27.85</td>\n",
       "      <td>27.16</td>\n",
       "    </tr>\n",
       "    <tr>\n",
       "      <th>120</th>\n",
       "      <td>43.74</td>\n",
       "      <td>45.22</td>\n",
       "      <td>159.22</td>\n",
       "      <td>173.08</td>\n",
       "      <td>27.40</td>\n",
       "      <td>27.73</td>\n",
       "    </tr>\n",
       "    <tr>\n",
       "      <th>121</th>\n",
       "      <td>44.38</td>\n",
       "      <td>42.06</td>\n",
       "      <td>160.23</td>\n",
       "      <td>174.76</td>\n",
       "      <td>26.47</td>\n",
       "      <td>26.27</td>\n",
       "    </tr>\n",
       "    <tr>\n",
       "      <th>122</th>\n",
       "      <td>47.33</td>\n",
       "      <td>44.32</td>\n",
       "      <td>157.23</td>\n",
       "      <td>170.33</td>\n",
       "      <td>26.61</td>\n",
       "      <td>25.74</td>\n",
       "    </tr>\n",
       "    <tr>\n",
       "      <th>123</th>\n",
       "      <td>46.46</td>\n",
       "      <td>52.13</td>\n",
       "      <td>160.48</td>\n",
       "      <td>174.45</td>\n",
       "      <td>30.64</td>\n",
       "      <td>28.81</td>\n",
       "    </tr>\n",
       "    <tr>\n",
       "      <th>124</th>\n",
       "      <td>42.54</td>\n",
       "      <td>48.25</td>\n",
       "      <td>162.85</td>\n",
       "      <td>174.29</td>\n",
       "      <td>28.64</td>\n",
       "      <td>27.71</td>\n",
       "    </tr>\n",
       "    <tr>\n",
       "      <th>125</th>\n",
       "      <td>51.66</td>\n",
       "      <td>49.71</td>\n",
       "      <td>160.02</td>\n",
       "      <td>174.46</td>\n",
       "      <td>28.56</td>\n",
       "      <td>29.14</td>\n",
       "    </tr>\n",
       "    <tr>\n",
       "      <th>126</th>\n",
       "      <td>47.21</td>\n",
       "      <td>48.67</td>\n",
       "      <td>160.89</td>\n",
       "      <td>174.71</td>\n",
       "      <td>29.61</td>\n",
       "      <td>29.04</td>\n",
       "    </tr>\n",
       "    <tr>\n",
       "      <th>127</th>\n",
       "      <td>51.49</td>\n",
       "      <td>54.07</td>\n",
       "      <td>159.02</td>\n",
       "      <td>173.37</td>\n",
       "      <td>30.77</td>\n",
       "      <td>30.56</td>\n",
       "    </tr>\n",
       "    <tr>\n",
       "      <th>128</th>\n",
       "      <td>45.59</td>\n",
       "      <td>45.82</td>\n",
       "      <td>160.44</td>\n",
       "      <td>172.40</td>\n",
       "      <td>27.49</td>\n",
       "      <td>26.84</td>\n",
       "    </tr>\n",
       "    <tr>\n",
       "      <th>129</th>\n",
       "      <td>43.50</td>\n",
       "      <td>45.78</td>\n",
       "      <td>161.03</td>\n",
       "      <td>173.14</td>\n",
       "      <td>29.43</td>\n",
       "      <td>28.96</td>\n",
       "    </tr>\n",
       "    <tr>\n",
       "      <th>130</th>\n",
       "      <td>50.83</td>\n",
       "      <td>50.54</td>\n",
       "      <td>160.06</td>\n",
       "      <td>175.06</td>\n",
       "      <td>31.49</td>\n",
       "      <td>29.24</td>\n",
       "    </tr>\n",
       "    <tr>\n",
       "      <th>131</th>\n",
       "      <td>45.00</td>\n",
       "      <td>46.78</td>\n",
       "      <td>161.67</td>\n",
       "      <td>175.09</td>\n",
       "      <td>32.98</td>\n",
       "      <td>30.08</td>\n",
       "    </tr>\n",
       "    <tr>\n",
       "      <th>132</th>\n",
       "      <td>51.70</td>\n",
       "      <td>49.04</td>\n",
       "      <td>159.14</td>\n",
       "      <td>172.81</td>\n",
       "      <td>30.54</td>\n",
       "      <td>28.97</td>\n",
       "    </tr>\n",
       "    <tr>\n",
       "      <th>133</th>\n",
       "      <td>47.06</td>\n",
       "      <td>47.49</td>\n",
       "      <td>158.63</td>\n",
       "      <td>171.18</td>\n",
       "      <td>29.00</td>\n",
       "      <td>27.97</td>\n",
       "    </tr>\n",
       "  </tbody>\n",
       "</table>\n",
       "</div>"
      ],
      "text/plain": [
       "                 RIDAGEYR          BMXHT         BMXBMI       \n",
       "Gender             Female   Male  Female    Male Female   Male\n",
       "SDMVPSU SDMVSTRA                                              \n",
       "1       119         47.66  47.86  159.57  172.74  30.05  26.96\n",
       "        120         43.64  43.13  155.40  169.54  32.42  30.94\n",
       "        121         44.40  46.75  158.87  172.18  30.86  29.42\n",
       "        122         42.90  44.65  161.32  174.00  29.45  28.53\n",
       "        123         44.84  47.83  162.06  174.32  29.91  29.23\n",
       "        124         51.66  50.75  158.79  172.11  29.53  28.61\n",
       "        125         50.90  55.17  160.76  173.63  30.39  29.73\n",
       "        126         46.23  48.42  160.39  175.15  31.26  29.03\n",
       "        127         49.69  53.14  157.42  171.55  32.19  31.06\n",
       "        128         55.64  53.67  156.34  169.32  32.30  31.75\n",
       "        129         45.33  43.92  156.90  171.09  29.02  26.49\n",
       "        130         47.81  50.52  161.98  176.97  30.70  30.34\n",
       "        131         54.89  53.14  161.99  175.61  30.06  28.26\n",
       "        132         43.21  42.38  161.51  172.53  29.85  28.55\n",
       "        133         45.11  44.05  158.30  171.51  27.96  27.50\n",
       "2       119         52.99  54.36  159.24  172.91  27.85  27.16\n",
       "        120         43.74  45.22  159.22  173.08  27.40  27.73\n",
       "        121         44.38  42.06  160.23  174.76  26.47  26.27\n",
       "        122         47.33  44.32  157.23  170.33  26.61  25.74\n",
       "        123         46.46  52.13  160.48  174.45  30.64  28.81\n",
       "        124         42.54  48.25  162.85  174.29  28.64  27.71\n",
       "        125         51.66  49.71  160.02  174.46  28.56  29.14\n",
       "        126         47.21  48.67  160.89  174.71  29.61  29.04\n",
       "        127         51.49  54.07  159.02  173.37  30.77  30.56\n",
       "        128         45.59  45.82  160.44  172.40  27.49  26.84\n",
       "        129         43.50  45.78  161.03  173.14  29.43  28.96\n",
       "        130         50.83  50.54  160.06  175.06  31.49  29.24\n",
       "        131         45.00  46.78  161.67  175.09  32.98  30.08\n",
       "        132         51.70  49.04  159.14  172.81  30.54  28.97\n",
       "        133         47.06  47.49  158.63  171.18  29.00  27.97"
      ]
     },
     "execution_count": 23,
     "metadata": {},
     "output_type": "execute_result"
    }
   ],
   "source": [
    "MVU = da.groupby([\"SDMVPSU\",\"SDMVSTRA\",\"Gender\"])[\"RIDAGEYR\",\"BMXHT\",\"BMXBMI\"].mean()\n",
    "MVU = MVU.unstack()\n",
    "MVU = round(MVU,2) \n",
    "MVU"
   ]
  },
  {
   "cell_type": "code",
   "execution_count": 24,
   "metadata": {
    "scrolled": false
   },
   "outputs": [
    {
     "data": {
      "text/html": [
       "<div>\n",
       "<style scoped>\n",
       "    .dataframe tbody tr th:only-of-type {\n",
       "        vertical-align: middle;\n",
       "    }\n",
       "\n",
       "    .dataframe tbody tr th {\n",
       "        vertical-align: top;\n",
       "    }\n",
       "\n",
       "    .dataframe thead th {\n",
       "        text-align: right;\n",
       "    }\n",
       "</style>\n",
       "<table border=\"1\" class=\"dataframe\">\n",
       "  <thead>\n",
       "    <tr style=\"text-align: right;\">\n",
       "      <th></th>\n",
       "      <th>Gender</th>\n",
       "      <th>Female</th>\n",
       "      <th>Male</th>\n",
       "    </tr>\n",
       "    <tr>\n",
       "      <th>SDMVPSU</th>\n",
       "      <th>SDMVSTRA</th>\n",
       "      <th></th>\n",
       "      <th></th>\n",
       "    </tr>\n",
       "  </thead>\n",
       "  <tbody>\n",
       "    <tr>\n",
       "      <th rowspan=\"15\" valign=\"top\">1</th>\n",
       "      <th>119</th>\n",
       "      <td>1.22</td>\n",
       "      <td>1.23</td>\n",
       "    </tr>\n",
       "    <tr>\n",
       "      <th>120</th>\n",
       "      <td>1.25</td>\n",
       "      <td>1.30</td>\n",
       "    </tr>\n",
       "    <tr>\n",
       "      <th>121</th>\n",
       "      <td>1.31</td>\n",
       "      <td>1.25</td>\n",
       "    </tr>\n",
       "    <tr>\n",
       "      <th>122</th>\n",
       "      <td>1.23</td>\n",
       "      <td>1.24</td>\n",
       "    </tr>\n",
       "    <tr>\n",
       "      <th>123</th>\n",
       "      <td>1.26</td>\n",
       "      <td>1.21</td>\n",
       "    </tr>\n",
       "    <tr>\n",
       "      <th>124</th>\n",
       "      <td>1.26</td>\n",
       "      <td>1.21</td>\n",
       "    </tr>\n",
       "    <tr>\n",
       "      <th>125</th>\n",
       "      <td>1.23</td>\n",
       "      <td>1.27</td>\n",
       "    </tr>\n",
       "    <tr>\n",
       "      <th>126</th>\n",
       "      <td>1.22</td>\n",
       "      <td>1.22</td>\n",
       "    </tr>\n",
       "    <tr>\n",
       "      <th>127</th>\n",
       "      <td>1.23</td>\n",
       "      <td>1.22</td>\n",
       "    </tr>\n",
       "    <tr>\n",
       "      <th>128</th>\n",
       "      <td>1.28</td>\n",
       "      <td>1.36</td>\n",
       "    </tr>\n",
       "    <tr>\n",
       "      <th>129</th>\n",
       "      <td>1.35</td>\n",
       "      <td>1.21</td>\n",
       "    </tr>\n",
       "    <tr>\n",
       "      <th>130</th>\n",
       "      <td>1.23</td>\n",
       "      <td>1.22</td>\n",
       "    </tr>\n",
       "    <tr>\n",
       "      <th>131</th>\n",
       "      <td>1.22</td>\n",
       "      <td>1.20</td>\n",
       "    </tr>\n",
       "    <tr>\n",
       "      <th>132</th>\n",
       "      <td>1.20</td>\n",
       "      <td>1.27</td>\n",
       "    </tr>\n",
       "    <tr>\n",
       "      <th>133</th>\n",
       "      <td>1.27</td>\n",
       "      <td>1.27</td>\n",
       "    </tr>\n",
       "    <tr>\n",
       "      <th rowspan=\"15\" valign=\"top\">2</th>\n",
       "      <th>119</th>\n",
       "      <td>1.27</td>\n",
       "      <td>1.27</td>\n",
       "    </tr>\n",
       "    <tr>\n",
       "      <th>120</th>\n",
       "      <td>1.30</td>\n",
       "      <td>1.27</td>\n",
       "    </tr>\n",
       "    <tr>\n",
       "      <th>121</th>\n",
       "      <td>1.25</td>\n",
       "      <td>1.30</td>\n",
       "    </tr>\n",
       "    <tr>\n",
       "      <th>122</th>\n",
       "      <td>1.21</td>\n",
       "      <td>1.27</td>\n",
       "    </tr>\n",
       "    <tr>\n",
       "      <th>123</th>\n",
       "      <td>1.24</td>\n",
       "      <td>1.29</td>\n",
       "    </tr>\n",
       "    <tr>\n",
       "      <th>124</th>\n",
       "      <td>1.22</td>\n",
       "      <td>1.20</td>\n",
       "    </tr>\n",
       "    <tr>\n",
       "      <th>125</th>\n",
       "      <td>1.25</td>\n",
       "      <td>1.23</td>\n",
       "    </tr>\n",
       "    <tr>\n",
       "      <th>126</th>\n",
       "      <td>1.22</td>\n",
       "      <td>1.24</td>\n",
       "    </tr>\n",
       "    <tr>\n",
       "      <th>127</th>\n",
       "      <td>1.27</td>\n",
       "      <td>1.22</td>\n",
       "    </tr>\n",
       "    <tr>\n",
       "      <th>128</th>\n",
       "      <td>1.22</td>\n",
       "      <td>1.27</td>\n",
       "    </tr>\n",
       "    <tr>\n",
       "      <th>129</th>\n",
       "      <td>1.25</td>\n",
       "      <td>1.25</td>\n",
       "    </tr>\n",
       "    <tr>\n",
       "      <th>130</th>\n",
       "      <td>1.29</td>\n",
       "      <td>1.26</td>\n",
       "    </tr>\n",
       "    <tr>\n",
       "      <th>131</th>\n",
       "      <td>1.20</td>\n",
       "      <td>1.20</td>\n",
       "    </tr>\n",
       "    <tr>\n",
       "      <th>132</th>\n",
       "      <td>1.28</td>\n",
       "      <td>1.29</td>\n",
       "    </tr>\n",
       "    <tr>\n",
       "      <th>133</th>\n",
       "      <td>1.20</td>\n",
       "      <td>1.37</td>\n",
       "    </tr>\n",
       "  </tbody>\n",
       "</table>\n",
       "</div>"
      ],
      "text/plain": [
       "Gender            Female  Male\n",
       "SDMVPSU SDMVSTRA              \n",
       "1       119         1.22  1.23\n",
       "        120         1.25  1.30\n",
       "        121         1.31  1.25\n",
       "        122         1.23  1.24\n",
       "        123         1.26  1.21\n",
       "        124         1.26  1.21\n",
       "        125         1.23  1.27\n",
       "        126         1.22  1.22\n",
       "        127         1.23  1.22\n",
       "        128         1.28  1.36\n",
       "        129         1.35  1.21\n",
       "        130         1.23  1.22\n",
       "        131         1.22  1.20\n",
       "        132         1.20  1.27\n",
       "        133         1.27  1.27\n",
       "2       119         1.27  1.27\n",
       "        120         1.30  1.27\n",
       "        121         1.25  1.30\n",
       "        122         1.21  1.27\n",
       "        123         1.24  1.29\n",
       "        124         1.22  1.20\n",
       "        125         1.25  1.23\n",
       "        126         1.22  1.24\n",
       "        127         1.27  1.22\n",
       "        128         1.22  1.27\n",
       "        129         1.25  1.25\n",
       "        130         1.29  1.26\n",
       "        131         1.20  1.20\n",
       "        132         1.28  1.29\n",
       "        133         1.20  1.37"
      ]
     },
     "execution_count": 24,
     "metadata": {},
     "output_type": "execute_result"
    }
   ],
   "source": [
    "MVU_Max_Min = da.groupby([\"SDMVPSU\",\"SDMVSTRA\",\"Gender\"])[\"BMXHT\"].max()\n",
    "MVU_Max_Min = MVU_Max_Min / da.groupby([\"SDMVPSU\",\"SDMVSTRA\",\"Gender\"])[\"BMXHT\"].min()\n",
    "MVU_Max_Min = MVU_Max_Min.unstack()\n",
    "MVU_Max_Min = round(MVU_Max_Min,2)\n",
    "MVU_Max_Min"
   ]
  },
  {
   "cell_type": "markdown",
   "metadata": {},
   "source": [
    "__Q6b.__ Calculate the inter-quartile range (IQR) for age, height, and BMI for each gender and each MVU.  Report the ratio between the largest and smalles IQR across the MVUs."
   ]
  },
  {
   "cell_type": "code",
   "execution_count": 25,
   "metadata": {
    "scrolled": false
   },
   "outputs": [
    {
     "name": "stdout",
     "output_type": "stream",
     "text": [
      "\n",
      "AGGREGATE IQR\n",
      "RIDAGEYR IQR:  31.0\n",
      "BMXHT IQR:  14.800000000000011\n",
      "BMXBMI IQR:  8.7\n",
      "\n",
      "MALE IQR\n",
      "RIDAGEYR:  31.0\n",
      "BMXHT:  10.400000000000006\n",
      "BMXBMI:  7.575000000000003\n",
      "\n",
      "FEMALE IQR\n",
      "RIDAGEYR:  30.0\n",
      "BMXHT:  10.100000000000023\n",
      "BMXBMI:  10.0\n",
      "\n",
      "RIDAGEYR GROUPED\n",
      "SDMVSTRA  SDMVPSU\n",
      "119       1          31.25\n",
      "          2          33.00\n",
      "120       1          26.00\n",
      "          2          27.00\n",
      "121       1          31.50\n",
      "          2          25.00\n",
      "122       1          27.00\n",
      "          2          28.75\n",
      "123       1          30.00\n",
      "          2          33.00\n",
      "124       1          30.00\n",
      "          2          26.00\n",
      "125       1          29.50\n",
      "          2          33.75\n",
      "126       1          33.00\n",
      "          2          32.50\n",
      "127       1          29.00\n",
      "          2          27.75\n",
      "128       1          30.00\n",
      "          2          24.00\n",
      "129       1          22.25\n",
      "          2          28.75\n",
      "130       1          35.25\n",
      "          2          29.00\n",
      "131       1          36.00\n",
      "          2          27.00\n",
      "132       1          25.00\n",
      "          2          35.00\n",
      "133       1          33.75\n",
      "          2          31.00\n",
      "Name: RIDAGEYR, dtype: float64\n",
      "\n",
      "BMXHT GROUPED\n",
      "SDMVSTRA  SDMVPSU\n",
      "119       1          12.375\n",
      "          2          13.850\n",
      "120       1          15.250\n",
      "          2          14.000\n",
      "121       1          15.450\n",
      "          2          17.650\n",
      "122       1          14.300\n",
      "          2          14.000\n",
      "123       1          13.250\n",
      "          2          14.800\n",
      "124       1          13.950\n",
      "          2          11.950\n",
      "125       1          14.275\n",
      "          2          15.075\n",
      "126       1          15.100\n",
      "          2          15.825\n",
      "127       1          14.200\n",
      "          2          14.300\n",
      "128       1          15.075\n",
      "          2          14.400\n",
      "129       1          16.025\n",
      "          2          13.350\n",
      "130       1          14.900\n",
      "          2          16.425\n",
      "131       1          14.350\n",
      "          2          13.950\n",
      "132       1          13.575\n",
      "          2          14.425\n",
      "133       1          14.675\n",
      "          2          14.350\n",
      "Name: BMXHT, dtype: float64\n",
      "\n",
      "BMXBMI GROUPED\n",
      "SDMVSTRA  SDMVPSU\n",
      "119       1           8.900\n",
      "          2           7.875\n",
      "120       1           9.300\n",
      "          2           7.600\n",
      "121       1           8.675\n",
      "          2           6.975\n",
      "122       1           8.250\n",
      "          2           5.300\n",
      "123       1           9.150\n",
      "          2           8.700\n",
      "124       1           7.300\n",
      "          2           8.825\n",
      "125       1           8.000\n",
      "          2           9.350\n",
      "126       1           8.700\n",
      "          2           8.950\n",
      "127       1          10.400\n",
      "          2           7.475\n",
      "128       1           7.900\n",
      "          2           7.500\n",
      "129       1           7.100\n",
      "          2           7.675\n",
      "130       1           9.525\n",
      "          2           9.350\n",
      "131       1           8.500\n",
      "          2           9.625\n",
      "132       1           8.350\n",
      "          2          10.525\n",
      "133       1           7.200\n",
      "          2           7.850\n",
      "Name: BMXBMI, dtype: float64\n",
      "\n",
      "Ratio of Max/Min for RIDAGEYR\n",
      "1.6179775280898876\n",
      "\n",
      "Ratio of Max/Min for BMXBHT\n",
      "1.4769874476987432\n",
      "\n",
      "Ratio of Max/Min for BMXBMI\n",
      "1.9858490566037736\n"
     ]
    }
   ],
   "source": [
    "from scipy.stats import iqr\n",
    "\n",
    "print(\"\\nAGGREGATE IQR\")\n",
    "print(\"RIDAGEYR IQR: \", iqr(da.RIDAGEYR.dropna()))\n",
    "print(\"BMXHT IQR: \", iqr(da.BMXHT.dropna()))\n",
    "print(\"BMXBMI IQR: \", iqr(da.BMXBMI.dropna()))\n",
    "\n",
    "print(\"\\nMALE IQR\")\n",
    "print(\"RIDAGEYR: \", iqr(da.RIDAGEYR.dropna()[da.RIAGENDR == 1]))\n",
    "print(\"BMXHT: \", iqr(da.BMXHT.dropna()[da.RIAGENDR == 1]))\n",
    "print(\"BMXBMI: \", iqr(da.BMXBMI.dropna()[da.RIAGENDR == 1]))\n",
    "\n",
    "print(\"\\nFEMALE IQR\")\n",
    "print(\"RIDAGEYR: \", iqr(da.RIDAGEYR.dropna()[da.RIAGENDR == 2]))\n",
    "print(\"BMXHT: \", iqr(da.BMXHT.dropna()[da.RIAGENDR == 2]))\n",
    "print(\"BMXBMI: \", iqr(da.BMXBMI.dropna()[da.RIAGENDR == 2]))\n",
    "\n",
    "RIDAGEYRGrp = da[da.RIDAGEYR.notna()].groupby(['SDMVSTRA', 'SDMVPSU'])\n",
    "print(\"\\nRIDAGEYR GROUPED\")\n",
    "print(RIDAGEYRGrp[\"RIDAGEYR\"].agg(iqr))\n",
    "\n",
    "BMXHTGrp = da[da.BMXHT.notna()].groupby(['SDMVSTRA', 'SDMVPSU'])\n",
    "print(\"\\nBMXHT GROUPED\")\n",
    "print(BMXHTGrp[\"BMXHT\"].agg(iqr))\n",
    "\n",
    "BMXBMIGrp = da[da.BMXBMI.notna()].groupby(['SDMVSTRA', 'SDMVPSU'])\n",
    "print(\"\\nBMXBMI GROUPED\")\n",
    "print(BMXBMIGrp[\"BMXBMI\"].agg(iqr))\n",
    "\n",
    "\n",
    "print(\"\\nRatio of Max/Min for RIDAGEYR\")\n",
    "print(max(RIDAGEYRGrp[\"RIDAGEYR\"].agg(iqr)) / min(RIDAGEYRGrp[\"RIDAGEYR\"].agg(iqr)))\n",
    "\n",
    "print(\"\\nRatio of Max/Min for BMXBHT\")\n",
    "print(max(BMXHTGrp[\"BMXHT\"].agg(iqr)) / min(BMXHTGrp[\"BMXHT\"].agg(iqr)))\n",
    "\n",
    "print(\"\\nRatio of Max/Min for BMXBMI\")\n",
    "print(max(BMXBMIGrp[\"BMXBMI\"].agg(iqr)) / min(BMXBMIGrp[\"BMXBMI\"].agg(iqr)))"
   ]
  }
 ],
 "metadata": {
  "kernelspec": {
   "display_name": "Python 3",
   "language": "python",
   "name": "python3"
  },
  "language_info": {
   "codemirror_mode": {
    "name": "ipython",
    "version": 3
   },
   "file_extension": ".py",
   "mimetype": "text/x-python",
   "name": "python",
   "nbconvert_exporter": "python",
   "pygments_lexer": "ipython3",
   "version": "3.6.3"
  }
 },
 "nbformat": 4,
 "nbformat_minor": 2
}
