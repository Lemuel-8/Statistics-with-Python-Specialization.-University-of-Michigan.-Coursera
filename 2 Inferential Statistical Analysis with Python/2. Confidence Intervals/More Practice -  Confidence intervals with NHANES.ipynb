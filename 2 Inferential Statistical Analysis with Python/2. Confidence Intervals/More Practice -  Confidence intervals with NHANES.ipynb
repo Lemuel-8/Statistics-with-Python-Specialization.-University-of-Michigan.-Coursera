{
 "cells": [
  {
   "cell_type": "markdown",
   "metadata": {},
   "source": [
    "# Practice notebook for confidence intervals using NHANES data\n",
    "\n",
    "This notebook will give you the opportunity to practice working with confidence intervals using the NHANES data.\n",
    "\n",
    "You can enter your code into the cells that say \"enter your code here\", and you can type responses to the questions into the cells that say \"Type Markdown and Latex\".\n",
    "\n",
    "Note that most of the code that you will need to write below is very similar to code that appears in the case study notebook.  You will need to edit code from that notebook in small ways to adapt it to the prompts below.\n",
    "\n",
    "To get started, we will use the same module imports and read the data in the same way as we did in the case study:"
   ]
  },
  {
   "cell_type": "code",
   "execution_count": 1,
   "metadata": {},
   "outputs": [],
   "source": [
    "%matplotlib inline\n",
    "import matplotlib.pyplot as plt\n",
    "import pandas as pd\n",
    "import numpy as np\n",
    "import seaborn as sns\n",
    "import statsmodels.api as sm\n",
    "\n",
    "da = pd.read_csv(\"nhanes_2015_2016.csv\")"
   ]
  },
  {
   "cell_type": "code",
   "execution_count": 2,
   "metadata": {},
   "outputs": [
    {
     "data": {
      "text/html": [
       "<div>\n",
       "<style scoped>\n",
       "    .dataframe tbody tr th:only-of-type {\n",
       "        vertical-align: middle;\n",
       "    }\n",
       "\n",
       "    .dataframe tbody tr th {\n",
       "        vertical-align: top;\n",
       "    }\n",
       "\n",
       "    .dataframe thead th {\n",
       "        text-align: right;\n",
       "    }\n",
       "</style>\n",
       "<table border=\"1\" class=\"dataframe\">\n",
       "  <thead>\n",
       "    <tr style=\"text-align: right;\">\n",
       "      <th></th>\n",
       "      <th>SEQN</th>\n",
       "      <th>ALQ101</th>\n",
       "      <th>ALQ110</th>\n",
       "      <th>ALQ130</th>\n",
       "      <th>SMQ020</th>\n",
       "      <th>RIAGENDR</th>\n",
       "      <th>RIDAGEYR</th>\n",
       "      <th>RIDRETH1</th>\n",
       "      <th>DMDCITZN</th>\n",
       "      <th>DMDEDUC2</th>\n",
       "      <th>...</th>\n",
       "      <th>BPXSY2</th>\n",
       "      <th>BPXDI2</th>\n",
       "      <th>BMXWT</th>\n",
       "      <th>BMXHT</th>\n",
       "      <th>BMXBMI</th>\n",
       "      <th>BMXLEG</th>\n",
       "      <th>BMXARML</th>\n",
       "      <th>BMXARMC</th>\n",
       "      <th>BMXWAIST</th>\n",
       "      <th>HIQ210</th>\n",
       "    </tr>\n",
       "  </thead>\n",
       "  <tbody>\n",
       "    <tr>\n",
       "      <th>0</th>\n",
       "      <td>83732</td>\n",
       "      <td>1.0</td>\n",
       "      <td>NaN</td>\n",
       "      <td>1.0</td>\n",
       "      <td>1</td>\n",
       "      <td>1</td>\n",
       "      <td>62</td>\n",
       "      <td>3</td>\n",
       "      <td>1.0</td>\n",
       "      <td>5.0</td>\n",
       "      <td>...</td>\n",
       "      <td>124.0</td>\n",
       "      <td>64.0</td>\n",
       "      <td>94.8</td>\n",
       "      <td>184.5</td>\n",
       "      <td>27.8</td>\n",
       "      <td>43.3</td>\n",
       "      <td>43.6</td>\n",
       "      <td>35.9</td>\n",
       "      <td>101.1</td>\n",
       "      <td>2.0</td>\n",
       "    </tr>\n",
       "    <tr>\n",
       "      <th>1</th>\n",
       "      <td>83733</td>\n",
       "      <td>1.0</td>\n",
       "      <td>NaN</td>\n",
       "      <td>6.0</td>\n",
       "      <td>1</td>\n",
       "      <td>1</td>\n",
       "      <td>53</td>\n",
       "      <td>3</td>\n",
       "      <td>2.0</td>\n",
       "      <td>3.0</td>\n",
       "      <td>...</td>\n",
       "      <td>140.0</td>\n",
       "      <td>88.0</td>\n",
       "      <td>90.4</td>\n",
       "      <td>171.4</td>\n",
       "      <td>30.8</td>\n",
       "      <td>38.0</td>\n",
       "      <td>40.0</td>\n",
       "      <td>33.2</td>\n",
       "      <td>107.9</td>\n",
       "      <td>NaN</td>\n",
       "    </tr>\n",
       "    <tr>\n",
       "      <th>2</th>\n",
       "      <td>83734</td>\n",
       "      <td>1.0</td>\n",
       "      <td>NaN</td>\n",
       "      <td>NaN</td>\n",
       "      <td>1</td>\n",
       "      <td>1</td>\n",
       "      <td>78</td>\n",
       "      <td>3</td>\n",
       "      <td>1.0</td>\n",
       "      <td>3.0</td>\n",
       "      <td>...</td>\n",
       "      <td>132.0</td>\n",
       "      <td>44.0</td>\n",
       "      <td>83.4</td>\n",
       "      <td>170.1</td>\n",
       "      <td>28.8</td>\n",
       "      <td>35.6</td>\n",
       "      <td>37.0</td>\n",
       "      <td>31.0</td>\n",
       "      <td>116.5</td>\n",
       "      <td>2.0</td>\n",
       "    </tr>\n",
       "    <tr>\n",
       "      <th>3</th>\n",
       "      <td>83735</td>\n",
       "      <td>2.0</td>\n",
       "      <td>1.0</td>\n",
       "      <td>1.0</td>\n",
       "      <td>2</td>\n",
       "      <td>2</td>\n",
       "      <td>56</td>\n",
       "      <td>3</td>\n",
       "      <td>1.0</td>\n",
       "      <td>5.0</td>\n",
       "      <td>...</td>\n",
       "      <td>134.0</td>\n",
       "      <td>68.0</td>\n",
       "      <td>109.8</td>\n",
       "      <td>160.9</td>\n",
       "      <td>42.4</td>\n",
       "      <td>38.5</td>\n",
       "      <td>37.7</td>\n",
       "      <td>38.3</td>\n",
       "      <td>110.1</td>\n",
       "      <td>2.0</td>\n",
       "    </tr>\n",
       "    <tr>\n",
       "      <th>4</th>\n",
       "      <td>83736</td>\n",
       "      <td>2.0</td>\n",
       "      <td>1.0</td>\n",
       "      <td>1.0</td>\n",
       "      <td>2</td>\n",
       "      <td>2</td>\n",
       "      <td>42</td>\n",
       "      <td>4</td>\n",
       "      <td>1.0</td>\n",
       "      <td>4.0</td>\n",
       "      <td>...</td>\n",
       "      <td>114.0</td>\n",
       "      <td>54.0</td>\n",
       "      <td>55.2</td>\n",
       "      <td>164.9</td>\n",
       "      <td>20.3</td>\n",
       "      <td>37.4</td>\n",
       "      <td>36.0</td>\n",
       "      <td>27.2</td>\n",
       "      <td>80.4</td>\n",
       "      <td>2.0</td>\n",
       "    </tr>\n",
       "  </tbody>\n",
       "</table>\n",
       "<p>5 rows × 28 columns</p>\n",
       "</div>"
      ],
      "text/plain": [
       "    SEQN  ALQ101  ALQ110  ALQ130  SMQ020  RIAGENDR  RIDAGEYR  RIDRETH1  \\\n",
       "0  83732     1.0     NaN     1.0       1         1        62         3   \n",
       "1  83733     1.0     NaN     6.0       1         1        53         3   \n",
       "2  83734     1.0     NaN     NaN       1         1        78         3   \n",
       "3  83735     2.0     1.0     1.0       2         2        56         3   \n",
       "4  83736     2.0     1.0     1.0       2         2        42         4   \n",
       "\n",
       "   DMDCITZN  DMDEDUC2  ...  BPXSY2  BPXDI2  BMXWT  BMXHT  BMXBMI  BMXLEG  \\\n",
       "0       1.0       5.0  ...   124.0    64.0   94.8  184.5    27.8    43.3   \n",
       "1       2.0       3.0  ...   140.0    88.0   90.4  171.4    30.8    38.0   \n",
       "2       1.0       3.0  ...   132.0    44.0   83.4  170.1    28.8    35.6   \n",
       "3       1.0       5.0  ...   134.0    68.0  109.8  160.9    42.4    38.5   \n",
       "4       1.0       4.0  ...   114.0    54.0   55.2  164.9    20.3    37.4   \n",
       "\n",
       "   BMXARML  BMXARMC  BMXWAIST  HIQ210  \n",
       "0     43.6     35.9     101.1     2.0  \n",
       "1     40.0     33.2     107.9     NaN  \n",
       "2     37.0     31.0     116.5     2.0  \n",
       "3     37.7     38.3     110.1     2.0  \n",
       "4     36.0     27.2      80.4     2.0  \n",
       "\n",
       "[5 rows x 28 columns]"
      ]
     },
     "execution_count": 2,
     "metadata": {},
     "output_type": "execute_result"
    }
   ],
   "source": [
    "da.head()"
   ]
  },
  {
   "cell_type": "markdown",
   "metadata": {},
   "source": [
    "## Question 1\n",
    "\n",
    "Restrict the sample to women between 35 and 50, then use the marital status variable [DMDMARTL](https://wwwn.cdc.gov/Nchs/Nhanes/2015-2016/DEMO_I.htm#DMDMARTL) to partition this sample into two groups - women who are currently married, and women who are not currently married.  Within each of these groups, calculate the proportion of women who have completed college.  Calculate 95% confidence intervals for each of these proportions."
   ]
  },
  {
   "cell_type": "code",
   "execution_count": 3,
   "metadata": {},
   "outputs": [],
   "source": [
    "da[\"Married\"] = da.DMDMARTL.replace({1: \"yes\", \n",
    "                                         2: \"no\", \n",
    "                                         3: \"no\", \n",
    "                                         4: \"no\", \n",
    "                                         5: \"no\",\n",
    "                                         6: \"no\",\n",
    "                                         77: np.nan,\n",
    "                                         99: np.nan}).dropna()\n",
    "\n",
    "da[\"Complete_coll\"] = da.DMDEDUC2.replace({5: \"complete_college\"}).dropna()\n",
    "da[\"Gender\"] = da.RIAGENDR.replace({1:\"Male\", 2:\"Female\"}).dropna()\n",
    "da[\"agegrp\"] = pd.cut(da.RIDAGEYR, [35, 50])"
   ]
  },
  {
   "cell_type": "code",
   "execution_count": 4,
   "metadata": {},
   "outputs": [
    {
     "data": {
      "text/html": [
       "<div>\n",
       "<style scoped>\n",
       "    .dataframe tbody tr th:only-of-type {\n",
       "        vertical-align: middle;\n",
       "    }\n",
       "\n",
       "    .dataframe tbody tr th {\n",
       "        vertical-align: top;\n",
       "    }\n",
       "\n",
       "    .dataframe thead th {\n",
       "        text-align: right;\n",
       "    }\n",
       "</style>\n",
       "<table border=\"1\" class=\"dataframe\">\n",
       "  <thead>\n",
       "    <tr style=\"text-align: right;\">\n",
       "      <th></th>\n",
       "      <th></th>\n",
       "      <th>mean</th>\n",
       "      <th>total_n</th>\n",
       "    </tr>\n",
       "    <tr>\n",
       "      <th>agegrp</th>\n",
       "      <th>Married</th>\n",
       "      <th></th>\n",
       "      <th></th>\n",
       "    </tr>\n",
       "  </thead>\n",
       "  <tbody>\n",
       "    <tr>\n",
       "      <th rowspan=\"2\" valign=\"top\">(35, 50]</th>\n",
       "      <th>no</th>\n",
       "      <td>0.208723</td>\n",
       "      <td>321</td>\n",
       "    </tr>\n",
       "    <tr>\n",
       "      <th>yes</th>\n",
       "      <td>0.367542</td>\n",
       "      <td>419</td>\n",
       "    </tr>\n",
       "  </tbody>\n",
       "</table>\n",
       "</div>"
      ],
      "text/plain": [
       "                      mean  total_n\n",
       "agegrp   Married                   \n",
       "(35, 50] no       0.208723      321\n",
       "         yes      0.367542      419"
      ]
     },
     "execution_count": 4,
     "metadata": {},
     "output_type": "execute_result"
    }
   ],
   "source": [
    "pr = da.loc[da[\"Gender\"]==\"Female\"].groupby([\"agegrp\", \"Married\"]).agg({\n",
    "    \"Complete_coll\": [lambda x: np.mean(x==\"complete_college\"), np.size]\n",
    "})\n",
    "pr.columns = [\"mean\", \"total_n\"]\n",
    "pr"
   ]
  },
  {
   "cell_type": "code",
   "execution_count": 5,
   "metadata": {},
   "outputs": [
    {
     "name": "stdout",
     "output_type": "stream",
     "text": [
      "No Married Women with College: (0.16426526549807702, 0.2531802173679666)\n",
      "Married Women with College: (0.3213770303614961, 0.41370650185807434)\n"
     ]
    }
   ],
   "source": [
    "no_marr_p = pr[\"mean\"][0]\n",
    "no_marr_n = pr.total_n[0]\n",
    "yes_marr_p = pr[\"mean\"][1]\n",
    "yes_marr_n = pr.total_n[1]\n",
    "\n",
    "print(\"No Married Women with College:\", \n",
    "      sm.stats.proportion_confint(no_marr_n * no_marr_p, no_marr_n))\n",
    "print(\"Married Women with College:\", \n",
    "      sm.stats.proportion_confint(yes_marr_n * yes_marr_p, yes_marr_n))"
   ]
  },
  {
   "cell_type": "markdown",
   "metadata": {},
   "source": [
    "__Q1a.__ Identify which of the two confidence intervals is wider "
   ]
  },
  {
   "cell_type": "markdown",
   "metadata": {},
   "source": [
    "Married Women with college have a wider confidence interval. But this is almost equal as no married women"
   ]
  },
  {
   "cell_type": "markdown",
   "metadata": {},
   "source": [
    "__Q1b.__ Write 1-2 sentences summarizing these findings for an audience that does not know what a confidence interval is (the goal here is to report the substance of what you learned about how marital status and educational attainment are related, not to teach a person what a confidence interval is)."
   ]
  },
  {
   "cell_type": "markdown",
   "metadata": {},
   "source": [
    "With a 95% of confidence, we estimate that married women between 35 and 50 years old with college complete are between 31.48% and 42.03%."
   ]
  },
  {
   "cell_type": "markdown",
   "metadata": {},
   "source": [
    "## Question 2\n",
    "\n",
    "Construct a 95% confidence interval for the proportion of smokers who are female. Construct a 95% confidence interval for the proportion of smokers who are male. Construct a 95% confidence interval for the **difference** between those two gender proportions."
   ]
  },
  {
   "cell_type": "code",
   "execution_count": 6,
   "metadata": {
    "scrolled": false
   },
   "outputs": [
    {
     "data": {
      "text/html": [
       "<div>\n",
       "<style scoped>\n",
       "    .dataframe tbody tr th:only-of-type {\n",
       "        vertical-align: middle;\n",
       "    }\n",
       "\n",
       "    .dataframe tbody tr th {\n",
       "        vertical-align: top;\n",
       "    }\n",
       "\n",
       "    .dataframe thead th {\n",
       "        text-align: right;\n",
       "    }\n",
       "</style>\n",
       "<table border=\"1\" class=\"dataframe\">\n",
       "  <thead>\n",
       "    <tr style=\"text-align: right;\">\n",
       "      <th></th>\n",
       "      <th>mean</th>\n",
       "      <th>total_n</th>\n",
       "    </tr>\n",
       "    <tr>\n",
       "      <th>Gender</th>\n",
       "      <th></th>\n",
       "      <th></th>\n",
       "    </tr>\n",
       "  </thead>\n",
       "  <tbody>\n",
       "    <tr>\n",
       "      <th>Female</th>\n",
       "      <td>0.304435</td>\n",
       "      <td>2976</td>\n",
       "    </tr>\n",
       "    <tr>\n",
       "      <th>Male</th>\n",
       "      <td>0.512142</td>\n",
       "      <td>2759</td>\n",
       "    </tr>\n",
       "  </tbody>\n",
       "</table>\n",
       "</div>"
      ],
      "text/plain": [
       "            mean  total_n\n",
       "Gender                   \n",
       "Female  0.304435     2976\n",
       "Male    0.512142     2759"
      ]
     },
     "execution_count": 6,
     "metadata": {},
     "output_type": "execute_result"
    }
   ],
   "source": [
    "sp = da[\"Smokers\"] = da.SMQ020.replace({1:\"Yes\", 2:\"No\"})\n",
    "sp = da.groupby(da.Gender).agg({\"Smokers\": [lambda x: np.mean(x==\"Yes\"), np.size]})\n",
    "sp.columns = [\"mean\", \"total_n\"]\n",
    "sp"
   ]
  },
  {
   "cell_type": "code",
   "execution_count": 7,
   "metadata": {},
   "outputs": [
    {
     "data": {
      "text/plain": [
       "0.30443548387096775"
      ]
     },
     "execution_count": 7,
     "metadata": {},
     "output_type": "execute_result"
    }
   ],
   "source": [
    "sp[\"mean\"][\"Female\"]"
   ]
  },
  {
   "cell_type": "code",
   "execution_count": 8,
   "metadata": {},
   "outputs": [],
   "source": [
    "sp_fp = sp[\"mean\"][\"Female\"]\n",
    "sp_fn = sp.total_n.Female\n",
    "sp_mp = sp[\"mean\"][\"Male\"]\n",
    "sp_mn = sp.total_n.Male\n",
    "ci_pr_f = sm.stats.proportion_confint(sp_fn * sp_fp, sp_fn)\n",
    "ci_pr_m = sm.stats.proportion_confint(sp_mn * sp_mp, sp_mn)"
   ]
  },
  {
   "cell_type": "code",
   "execution_count": 9,
   "metadata": {},
   "outputs": [
    {
     "name": "stdout",
     "output_type": "stream",
     "text": [
      "Confidence Interval Smoking Women: (0.2879026244757051, 0.3209683432662304)\n",
      "Confidence Interval Smoking Men: (0.49349056386167417, 0.5307935970661982)\n"
     ]
    }
   ],
   "source": [
    "print(\"Confidence Interval Smoking Women:\", ci_pr_f)\n",
    "print(\"Confidence Interval Smoking Men:\", ci_pr_m)"
   ]
  },
  {
   "cell_type": "code",
   "execution_count": 10,
   "metadata": {},
   "outputs": [
    {
     "name": "stdout",
     "output_type": "stream",
     "text": [
      "Female Standard Error: 0.008435287344906213\n",
      "Male Standard Error: 0.009516254762527675\n",
      "Difference Standard Errors: 0.012716649609722899\n"
     ]
    }
   ],
   "source": [
    "#  np.sqrt(se.Female**2 + se.Male**2)\n",
    "se_f = np.sqrt(sp_fp * (1 - sp_fp) / sp_fn)\n",
    "se_m = np.sqrt(sp_mp * (1 - sp_mp) / sp_mn)\n",
    "se_diff = np.sqrt(se_f**2 + se_m**2)\n",
    "print(\"Female Standard Error:\", se_f)\n",
    "print(\"Male Standard Error:\", se_m)\n",
    "print(\"Difference Standard Errors:\", se_diff)\n"
   ]
  },
  {
   "cell_type": "code",
   "execution_count": 11,
   "metadata": {},
   "outputs": [
    {
     "name": "stdout",
     "output_type": "stream",
     "text": [
      "Difference of Smoker Gender Proportion: -0.2326312298280253 -0.18278196335791153\n"
     ]
    }
   ],
   "source": [
    "diff_p = sp_fp - sp_mp\n",
    "lcb = diff_p - 1.96 * se_diff\n",
    "ucb = diff_p + 1.96 * se_diff\n",
    "print(\"Difference of Smoker Gender Proportion:\", lcb,ucb)"
   ]
  },
  {
   "cell_type": "markdown",
   "metadata": {},
   "source": [
    "## Question 3\n",
    "\n",
    "Construct a 95% interval for height ([BMXHT](https://wwwn.cdc.gov/Nchs/Nhanes/2015-2016/BMX_I.htm#BMXHT)) in centimeters.  Then convert height from centimeters to inches by dividing by 2.54, and construct a 95% confidence interval for height in inches.  Finally, convert the endpoints (the lower and upper confidence limits) of the confidence interval from inches to back to centimeters   "
   ]
  },
  {
   "cell_type": "code",
   "execution_count": 12,
   "metadata": {},
   "outputs": [],
   "source": [
    "da[\"height\"] = da.BMXHT > 160"
   ]
  },
  {
   "cell_type": "code",
   "execution_count": 13,
   "metadata": {},
   "outputs": [
    {
     "data": {
      "text/plain": [
       "(0.6967741935483871, 5735)"
      ]
     },
     "execution_count": 13,
     "metadata": {},
     "output_type": "execute_result"
    }
   ],
   "source": [
    "cm_height = da.height.dropna()\n",
    "cm_height = [da.height.mean(), da.BMXHT.size]\n",
    "cm_height_p = cm_height[0]\n",
    "cm_height_n = cm_height[1]\n",
    "cm_height_p, cm_height_n"
   ]
  },
  {
   "cell_type": "code",
   "execution_count": 14,
   "metadata": {},
   "outputs": [
    {
     "data": {
      "text/plain": [
       "(0.6848779324238082, 0.708670454672966)"
      ]
     },
     "execution_count": 14,
     "metadata": {},
     "output_type": "execute_result"
    }
   ],
   "source": [
    "ci_cm_height = sm.stats.proportion_confint(cm_height_n * cm_height_p, cm_height_n)\n",
    "ci_cm_height"
   ]
  },
  {
   "cell_type": "code",
   "execution_count": 15,
   "metadata": {},
   "outputs": [],
   "source": [
    "da[\"height_inch\"] = (da.BMXHT / 2.54) > 62"
   ]
  },
  {
   "cell_type": "code",
   "execution_count": 16,
   "metadata": {},
   "outputs": [
    {
     "data": {
      "text/plain": [
       "(0.7797733217088055, 5735)"
      ]
     },
     "execution_count": 16,
     "metadata": {},
     "output_type": "execute_result"
    }
   ],
   "source": [
    "\n",
    "inch_height = da.height_inch.dropna()\n",
    "inch_height = [da.height_inch.mean(), da.BMXHT.size]\n",
    "inch_height_p = inch_height[0]\n",
    "inch_height_n = inch_height[1]\n",
    "inch_height_p, inch_height_n"
   ]
  },
  {
   "cell_type": "code",
   "execution_count": 17,
   "metadata": {},
   "outputs": [
    {
     "data": {
      "text/plain": [
       "(0.7690482419546796, 0.7904984014629315)"
      ]
     },
     "execution_count": 17,
     "metadata": {},
     "output_type": "execute_result"
    }
   ],
   "source": [
    "ci_inch_height = sm.stats.proportion_confint(inch_height_n * inch_height_p, inch_height_n)\n",
    "ci_inch_height"
   ]
  },
  {
   "cell_type": "code",
   "execution_count": 18,
   "metadata": {},
   "outputs": [
    {
     "data": {
      "text/plain": [
       "(2.0302873587603543, 2.086915779862139)"
      ]
     },
     "execution_count": 18,
     "metadata": {},
     "output_type": "execute_result"
    }
   ],
   "source": [
    "ci_inch_height[0] * 2.64, ci_inch_height[1] * 2.64"
   ]
  },
  {
   "cell_type": "markdown",
   "metadata": {},
   "source": [
    "## Question 4\n",
    "\n",
    "Partition the sample based on 10-year age bands, i.e. the resulting groups will consist of people with ages from 18-28, 29-38, etc. Construct 95% confidence intervals for the difference between the mean BMI for females and for males within each age band."
   ]
  },
  {
   "cell_type": "code",
   "execution_count": 19,
   "metadata": {},
   "outputs": [],
   "source": [
    "da[\"agegrpx\"] = pd.cut(da.RIDAGEYR, [18, 28, 38, 48, 58, 68, 78]).dropna()"
   ]
  },
  {
   "cell_type": "code",
   "execution_count": 20,
   "metadata": {
    "scrolled": true
   },
   "outputs": [
    {
     "data": {
      "text/html": [
       "<div>\n",
       "<style scoped>\n",
       "    .dataframe tbody tr th:only-of-type {\n",
       "        vertical-align: middle;\n",
       "    }\n",
       "\n",
       "    .dataframe tbody tr th {\n",
       "        vertical-align: top;\n",
       "    }\n",
       "\n",
       "    .dataframe thead tr th {\n",
       "        text-align: left;\n",
       "    }\n",
       "\n",
       "    .dataframe thead tr:last-of-type th {\n",
       "        text-align: right;\n",
       "    }\n",
       "</style>\n",
       "<table border=\"1\" class=\"dataframe\">\n",
       "  <thead>\n",
       "    <tr>\n",
       "      <th></th>\n",
       "      <th colspan=\"6\" halign=\"left\">BMXBMI</th>\n",
       "    </tr>\n",
       "    <tr>\n",
       "      <th></th>\n",
       "      <th colspan=\"2\" halign=\"left\">mean</th>\n",
       "      <th colspan=\"2\" halign=\"left\">std</th>\n",
       "      <th colspan=\"2\" halign=\"left\">size</th>\n",
       "    </tr>\n",
       "    <tr>\n",
       "      <th>Gender</th>\n",
       "      <th>Female</th>\n",
       "      <th>Male</th>\n",
       "      <th>Female</th>\n",
       "      <th>Male</th>\n",
       "      <th>Female</th>\n",
       "      <th>Male</th>\n",
       "    </tr>\n",
       "    <tr>\n",
       "      <th>agegrpx</th>\n",
       "      <th></th>\n",
       "      <th></th>\n",
       "      <th></th>\n",
       "      <th></th>\n",
       "      <th></th>\n",
       "      <th></th>\n",
       "    </tr>\n",
       "  </thead>\n",
       "  <tbody>\n",
       "    <tr>\n",
       "      <th>(18, 28]</th>\n",
       "      <td>28.019433</td>\n",
       "      <td>27.058186</td>\n",
       "      <td>8.048854</td>\n",
       "      <td>6.679515</td>\n",
       "      <td>498.0</td>\n",
       "      <td>458.0</td>\n",
       "    </tr>\n",
       "    <tr>\n",
       "      <th>(28, 38]</th>\n",
       "      <td>29.943443</td>\n",
       "      <td>29.697180</td>\n",
       "      <td>7.959097</td>\n",
       "      <td>6.726690</td>\n",
       "      <td>494.0</td>\n",
       "      <td>467.0</td>\n",
       "    </tr>\n",
       "    <tr>\n",
       "      <th>(38, 48]</th>\n",
       "      <td>31.003733</td>\n",
       "      <td>29.514646</td>\n",
       "      <td>8.044642</td>\n",
       "      <td>6.104950</td>\n",
       "      <td>514.0</td>\n",
       "      <td>398.0</td>\n",
       "    </tr>\n",
       "    <tr>\n",
       "      <th>(48, 58]</th>\n",
       "      <td>30.787361</td>\n",
       "      <td>29.385132</td>\n",
       "      <td>7.647590</td>\n",
       "      <td>6.151534</td>\n",
       "      <td>454.0</td>\n",
       "      <td>419.0</td>\n",
       "    </tr>\n",
       "    <tr>\n",
       "      <th>(58, 68]</th>\n",
       "      <td>31.054664</td>\n",
       "      <td>29.232462</td>\n",
       "      <td>7.779502</td>\n",
       "      <td>5.959024</td>\n",
       "      <td>466.0</td>\n",
       "      <td>470.0</td>\n",
       "    </tr>\n",
       "    <tr>\n",
       "      <th>(68, 78]</th>\n",
       "      <td>30.537818</td>\n",
       "      <td>28.720270</td>\n",
       "      <td>6.780588</td>\n",
       "      <td>5.336652</td>\n",
       "      <td>279.0</td>\n",
       "      <td>307.0</td>\n",
       "    </tr>\n",
       "  </tbody>\n",
       "</table>\n",
       "</div>"
      ],
      "text/plain": [
       "             BMXBMI                                             \n",
       "               mean                  std             size       \n",
       "Gender       Female       Male    Female      Male Female   Male\n",
       "agegrpx                                                         \n",
       "(18, 28]  28.019433  27.058186  8.048854  6.679515  498.0  458.0\n",
       "(28, 38]  29.943443  29.697180  7.959097  6.726690  494.0  467.0\n",
       "(38, 48]  31.003733  29.514646  8.044642  6.104950  514.0  398.0\n",
       "(48, 58]  30.787361  29.385132  7.647590  6.151534  454.0  419.0\n",
       "(58, 68]  31.054664  29.232462  7.779502  5.959024  466.0  470.0\n",
       "(68, 78]  30.537818  28.720270  6.780588  5.336652  279.0  307.0"
      ]
     },
     "execution_count": 20,
     "metadata": {},
     "output_type": "execute_result"
    }
   ],
   "source": [
    "bmi = da.groupby([\"agegrpx\", \"Gender\"]).agg({\"BMXBMI\": [np.mean, np.std, np.size]}).unstack()\n",
    "bmi"
   ]
  },
  {
   "cell_type": "code",
   "execution_count": 21,
   "metadata": {
    "scrolled": false
   },
   "outputs": [
    {
     "name": "stdout",
     "output_type": "stream",
     "text": [
      "agegrpx\n",
      "(18, 28]    0.360678\n",
      "(28, 38]    0.358097\n",
      "(38, 48]    0.354834\n",
      "(48, 58]    0.358919\n",
      "(58, 68]    0.360378\n",
      "(68, 78]    0.405943\n",
      "Name: (BMXBMI, sem, Female), dtype: float64\n",
      "agegrpx\n",
      "(18, 28]    0.312113\n",
      "(28, 38]    0.311274\n",
      "(38, 48]    0.306014\n",
      "(48, 58]    0.300522\n",
      "(58, 68]    0.274869\n",
      "(68, 78]    0.304579\n",
      "Name: (BMXBMI, sem, Male), dtype: float64\n"
     ]
    }
   ],
   "source": [
    "bmi[\"BMXBMI\", \"sem\", \"Female\"] = bmi[\"BMXBMI\", \"std\", \"Female\"] / np.sqrt(bmi[\"BMXBMI\", \"size\", \"Female\"]) \n",
    "bmi[\"BMXBMI\", \"sem\", \"Male\"] = bmi[\"BMXBMI\", \"std\", \"Male\"] / np.sqrt(bmi[\"BMXBMI\", \"size\", \"Male\"]) \n",
    "print(bmi[\"BMXBMI\", \"sem\", \"Female\"])\n",
    "print(bmi[\"BMXBMI\", \"sem\", \"Male\"])"
   ]
  },
  {
   "cell_type": "code",
   "execution_count": 22,
   "metadata": {},
   "outputs": [
    {
     "name": "stdout",
     "output_type": "stream",
     "text": [
      "agegrpx\n",
      "(18, 28]    0.961247\n",
      "(28, 38]    0.246263\n",
      "(38, 48]    1.489086\n",
      "(48, 58]    1.402230\n",
      "(58, 68]    1.822202\n",
      "(68, 78]    1.817548\n",
      "Name: (BMXBMI, mean_diff, ), dtype: float64\n",
      "agegrpx\n",
      "(18, 28]    0.476973\n",
      "(28, 38]    0.474473\n",
      "(38, 48]    0.468563\n",
      "(48, 58]    0.468120\n",
      "(58, 68]    0.453239\n",
      "(68, 78]    0.507502\n",
      "Name: (BMXBMI, sem_diff, ), dtype: float64\n",
      "agegrpx\n",
      "(18, 28]    0.026381\n",
      "(28, 38]   -0.683705\n",
      "(38, 48]    0.570703\n",
      "(48, 58]    0.484714\n",
      "(58, 68]    0.933853\n",
      "(68, 78]    0.822844\n",
      "Name: (BMXBMI, lcb_diff, ), dtype: float64\n",
      "agegrpx\n",
      "(18, 28]    1.896114\n",
      "(28, 38]    1.176230\n",
      "(38, 48]    2.407470\n",
      "(48, 58]    2.319745\n",
      "(58, 68]    2.710551\n",
      "(68, 78]    2.812252\n",
      "Name: (BMXBMI, ucb_diff, ), dtype: float64\n"
     ]
    }
   ],
   "source": [
    "bmi[\"BMXBMI\", \"mean_diff\", \"\"] = bmi[\"BMXBMI\", \"mean\", \"Female\"] - bmi[\"BMXBMI\", \"mean\", \"Male\"]\n",
    "bmi[\"BMXBMI\", \"sem_diff\", \"\"] = np.sqrt(bmi[\"BMXBMI\", \"sem\", \"Female\"]**2 + bmi[\"BMXBMI\", \"sem\", \"Male\"]**2) \n",
    "bmi[\"BMXBMI\", \"lcb_diff\", \"\"] = bmi[\"BMXBMI\", \"mean_diff\", \"\"] - 1.96 * bmi[\"BMXBMI\", \"sem_diff\", \"\"] \n",
    "bmi[\"BMXBMI\", \"ucb_diff\", \"\"] = bmi[\"BMXBMI\", \"mean_diff\", \"\"] + 1.96 * bmi[\"BMXBMI\", \"sem_diff\", \"\"]\n",
    "print(bmi[\"BMXBMI\", \"mean_diff\", \"\"])\n",
    "print(bmi[\"BMXBMI\", \"sem_diff\", \"\"])\n",
    "print(bmi[\"BMXBMI\", \"lcb_diff\", \"\"])\n",
    "print(bmi[\"BMXBMI\", \"ucb_diff\", \"\"])"
   ]
  },
  {
   "cell_type": "code",
   "execution_count": 23,
   "metadata": {},
   "outputs": [
    {
     "data": {
      "text/plain": [
       "Text(0,0.5,'Female - male BMI difference')"
      ]
     },
     "execution_count": 23,
     "metadata": {},
     "output_type": "execute_result"
    },
    {
     "data": {
      "image/png": "[encoded data removed]",
      "text/plain": [
       "<Figure size 432x288 with 1 Axes>"
      ]
     },
     "metadata": {},
     "output_type": "display_data"
    }
   ],
   "source": [
    "x = np.arange(bmi.shape[0])\n",
    "pp = sns.pointplot(x, bmi[\"BMXBMI\", \"mean_diff\", \"\"], color='black')\n",
    "sns.pointplot(x, bmi[\"BMXBMI\", \"lcb_diff\", \"\"], color='blue')\n",
    "sns.pointplot(x, bmi[\"BMXBMI\", \"ucb_diff\", \"\"], color='blue')\n",
    "pp.set_xticklabels(bmi.index)\n",
    "pp.set_xlabel(\"Age group\")\n",
    "pp.set_ylabel(\"Female - male BMI difference\")"
   ]
  }
 ],
 "metadata": {
  "kernelspec": {
   "display_name": "Python 3",
   "language": "python",
   "name": "python3"
  },
  "language_info": {
   "codemirror_mode": {
    "name": "ipython",
    "version": 3
   },
   "file_extension": ".py",
   "mimetype": "text/x-python",
   "name": "python",
   "nbconvert_exporter": "python",
   "pygments_lexer": "ipython3",
   "version": "3.6.3"
  }
 },
 "nbformat": 4,
 "nbformat_minor": 2
}
